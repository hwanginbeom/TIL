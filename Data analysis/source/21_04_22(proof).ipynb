{
 "cells": [
  {
   "cell_type": "code",
   "execution_count": 1,
   "metadata": {},
   "outputs": [],
   "source": [
    "import time\n",
    "import pandas as pd\n",
    "import psycopg2\n",
    "import datetime\n",
    "from tqdm import trange\n",
    "import matplotlib.pyplot as plt \n",
    "import matplotlib as mpl \n",
    "import seaborn as sns\n",
    "import math\n",
    "# %matplotlib inline \n",
    "import platform\n",
    "import numpy as np\n",
    "from matplotlib import font_manager, rc # plt.rcParams['axes.unicode_minus'] = False \n",
    "if platform.system() == 'Darwin': rc('font', family='AppleGothic') \n",
    "elif platform.system() == 'Windows': \n",
    "    path = \"c:/Windows/Fonts/malgun.ttf\" \n",
    "    font_name = font_manager.FontProperties(fname=path).get_name() \n",
    "    rc('font', family=font_name) \n",
    "else: \n",
    "    print('Unknown system... sorry~~~~')\n",
    "plt.rcParams[\"figure.figsize\"] = (14,4)\n",
    "plt.rcParams['lines.linewidth'] = 2\n",
    "from tqdm import tqdm\n",
    "from tqdm import trange\n",
    "from datetime import datetime, timedelta\n"
   ]
  },
  {
   "cell_type": "code",
   "execution_count": 2,
   "metadata": {},
   "outputs": [
    {
     "data": {
      "text/html": [
       "<style>.container { width:90% !important; }</style>"
      ],
      "text/plain": [
       "<IPython.core.display.HTML object>"
      ]
     },
     "metadata": {},
     "output_type": "display_data"
    }
   ],
   "source": [
    "from IPython.core.display import display, HTML\n",
    "display(HTML(\"<style>.container { width:90% !important; }</style>\"))\n"
   ]
  },
  {
   "cell_type": "code",
   "execution_count": 3,
   "metadata": {},
   "outputs": [],
   "source": [
    "# 시계열\n",
    "from datetime import datetime as dt\n",
    "from statsmodels.tsa.arima_model import ARIMA\n",
    "from dateutil.relativedelta import relativedelta\n",
    "from statsmodels.tsa.api import SimpleExpSmoothing, Holt, ExponentialSmoothing"
   ]
  },
  {
   "cell_type": "code",
   "execution_count": 4,
   "metadata": {},
   "outputs": [],
   "source": [
    "    # row 생략 없이 출력\n",
    "pd.set_option('display.max_rows', 1000)\n",
    "# col 생략 없이 출력\n",
    "pd.set_option('display.max_columns', 1000)\n",
    "plt.rcParams[\"figure.figsize\"] = (14,4)\n",
    "plt.rcParams['lines.linewidth'] = 2\n",
    "pd.options.display.float_format = '{:.5f}'.format"
   ]
  },
  {
   "cell_type": "code",
   "execution_count": 136,
   "metadata": {},
   "outputs": [],
   "source": [
    "# DB 연결 부분\n",
    "uswer = 'dt.intern'\n",
    "host = '10.80.0.234'\n",
    "port = '5439'\n",
    "dbname = 'fnf'\n",
    "con = psycopg2.connect(dbname='fnf',host='10.80.0.234', port='5439', user = 'dt.intern', password='DTintn0926')\n",
    "cur = con.cursor()"
   ]
  },
  {
   "cell_type": "code",
   "execution_count": 23,
   "metadata": {},
   "outputs": [],
   "source": [
    "# 전체 매장 입출판재\n",
    "total_shop_stock = pd.read_csv(\"total_shop_stock.csv\")\n",
    "total_shop_stock = total_shop_stock.iloc[ :,1:]\n",
    "\n",
    "# 매장정보\n",
    "shop_info_pd = pd.read_csv(\"shop_info_pd.csv\")\n",
    "shop_info_pd = shop_info_pd.iloc[ :,1:]\n",
    "\n",
    "# bucket_dwalker 관련 매장입출판재(2019)\n",
    "bucket_dwalker = pd.read_csv('bucket_dwalker.csv')\n",
    "bucket_dwalker = bucket_dwalker.iloc[ :,1:]\n",
    "\n",
    "# bucket_dwalker_v2 관련 매장입출판재\n",
    "bucket_dwalker_v2 = pd.read_csv('bucket_dwalker_v2.csv')\n",
    "bucket_dwalker_v2 = bucket_dwalker_v2.iloc[ :,1:]\n",
    "\n",
    "# 아울렛 상설을 제외한 매장키 \n",
    "shop_list_pd = pd.read_csv('shop_list.csv')\n",
    "shop_list_pd = shop_list_pd.iloc[ :,1:]\n",
    "\n",
    "# 전체 매장 비어있는 주차 채운 데이터 (버킷 디워커 기준)\n",
    "shop_weeks_buket_df = pd.read_csv('shop_weeks_buket.csv')\n",
    "shop_weeks_buket_df = shop_weeks_buket_df.iloc[ :,1:]\n",
    "\n",
    "# 전체 매장 비어있는 주차 채운 데이터 (버킷 디워커 v2 기준)\n",
    "shop_weeks_buket_v2_df = pd.read_csv('shop_weeks_buket_v2.csv')\n",
    "shop_weeks_buket_v2_df = shop_weeks_buket_v2_df.iloc[ :,1:]\n",
    "\n",
    "# 전체 매장 비어있는것 채워넣은 입출판재 합쳐 놓은 것\n",
    "shop_total_sales = pd.read_csv(\"shop_total_sales.csv\")\n",
    "shop_total_sales = shop_total_sales.iloc[ :,1:]\n",
    "\n",
    "# 버킷디워커 물류 재고량\n",
    "bk_stock_scsweek_pd = pd.read_csv(\"bk_stock_scsweek_pd.csv\")\n",
    "bk_stock_scsweek_pd = bk_stock_scsweek_pd.iloc[ :,1:]\n",
    "\n",
    "# 버킷디워커 물류 재고량\n",
    "v2_stock_scsweek_pd = pd.read_csv(\"v2_stock_scsweek_pd.csv\")\n",
    "v2_stock_scsweek_pd = v2_stock_scsweek_pd.iloc[ :,1:]"
   ]
  },
  {
   "cell_type": "code",
   "execution_count": 6,
   "metadata": {},
   "outputs": [],
   "source": [
    "# DB 연결 부분\n",
    "uswer = 'dt.intern'\n",
    "host = '10.80.0.234'\n",
    "port = '5439'\n",
    "dbname = 'fnf'\n",
    "con = psycopg2.connect(dbname='fnf',host='10.80.0.234', port='5439', user = 'dt.intern', password='DTintn0926')\n",
    "cur = con.cursor()"
   ]
  },
  {
   "cell_type": "code",
   "execution_count": 11,
   "metadata": {},
   "outputs": [],
   "source": [
    "def mae(prediction, correct):\n",
    "    prediction = np.array(prediction)\n",
    "    correct = np.array(correct)\n",
    "    \n",
    "    difference = correct - prediction\n",
    "    abs_val = abs(difference)\n",
    "    \n",
    "    score = abs_val.mean()\n",
    "    \n",
    "    return score\n",
    "\n",
    "# mae_scorer = make_scorer(mae)\n",
    "# mae_scorer"
   ]
  },
  {
   "cell_type": "code",
   "execution_count": 12,
   "metadata": {},
   "outputs": [],
   "source": [
    "def make_ewm_arr(data_frame, span_num):\n",
    "    arr_ewm = np.array([])\n",
    "#     for i in data_frame.store_id.unique():\n",
    "    df_set = data_frame\n",
    "        # 여기에서 지정하는 span값은 위 수식에서 N에 해당한다.\n",
    "    arr_ewm = np.concatenate((arr_ewm, df_set.week_sale_qty.ewm(span=span_num).mean().values) )\n",
    "    \n",
    "    return arr_ewm"
   ]
  },
  {
   "cell_type": "code",
   "execution_count": 137,
   "metadata": {},
   "outputs": [
    {
     "name": "stdout",
     "output_type": "stream",
     "text": [
      "time : 6.416370391845703\n"
     ]
    }
   ],
   "source": [
    "# 2019년 버킷디워커 물류 수량\n",
    "start = time.time()\n",
    "\n",
    "bk_stock_scsweek = '''\n",
    "\n",
    "SELECT weekkey ,scskey, week_accept_qty ,week_wsl_takeout_qty, wms_stock_qty ,stock_qty,domestic_sale_qty\n",
    "FROM ax.vw_f_scsweek vfs \n",
    "WHERE scskey  IN ('X19SDXSH09911BE230','X19SDXSH09911BE235','X19SDXSH09911BE240','X19SDXSH09911BE260','X19SDXSH09911BE265','X19SDXSH09911BE270',\n",
    "'X19SDXSH09911GR230','X19SDXSH09911GR235','X19SDXSH09911GR240','X19SDXSH09911GR260','X19SDXSH09911GR265','X19SDXSH09911GR270',\n",
    "'X19SDXSH09911WH230','X19SDXSH09911WH235','X19SDXSH09911WH240','X19SDXSH09911WH260','X19SDXSH09911WH265','X19SDXSH09911WH270',\n",
    "'X19SDXSH09911BK230','X19SDXSH09911BK235','X19SDXSH09911BK240','X19SDXSH09911BK260','X19SDXSH09911BK265','X19SDXSH09911BK270') \n",
    "AND weekkey BETWEEN To_date('2018-12-31', 'YYYY-MM-DD') AND To_date('2019-12-31', 'YYYY-MM-DD')\n",
    "\n",
    "\n",
    "'''\n",
    "\n",
    "\n",
    "cur.execute(bk_stock_scsweek)\n",
    "bk_stock_scsweek = cur.fetchall()\n",
    "\n",
    "print(\"time :\", time.time() - start)  # 현재시각 - 시작시간 = 실행 시간\n",
    "\n",
    "bk_stock_scsweek_pd = pd.DataFrame(bk_stock_scsweek)\n",
    "bk_stock_scsweek_pd.columns = ['weekkey' ,'scskey', 'week_accept_qty' ,'week_wsl_takeout_qty', 'wms_stock_qty' ,'stock_qty','domestic_sale_qty']"
   ]
  },
  {
   "cell_type": "code",
   "execution_count": 138,
   "metadata": {},
   "outputs": [
    {
     "name": "stdout",
     "output_type": "stream",
     "text": [
      "time : 0.14747023582458496\n"
     ]
    }
   ],
   "source": [
    "# 2020년 v2 버킷디워커 물류 수량\n",
    "start = time.time()\n",
    "\n",
    "v2_stock_scsweek = '''\n",
    "\n",
    "SELECT weekkey ,scskey, week_accept_qty ,week_wsl_takeout_qty, wms_stock_qty ,stock_qty,domestic_sale_qty\n",
    "FROM ax.vw_f_scsweek vfs \n",
    "WHERE scskey  IN ('X20SDXSHA5011OW230','X20SDXSHA5011OW235','X20SDXSHA5011OW240','X20SDXSHA5011OW260','X20SDXSHA5011OW265','X20SDXSHA5011OW270',\n",
    "'X20SDXSHA1011WH230','X20SDXSHA1011WH235','X20SDXSHA1011WH240','X20SDXSHA1011WH260','X20SDXSHA1011WH265','X20SDXSHA1011WH270',\n",
    "'X20SDXSHA3011BE230','X20SDXSHA3011BE235','X20SDXSHA3011BE240','X20SDXSHA3011BE260','X20SDXSHA3011BE265','X20SDXSHA3011BE270'\n",
    ") AND weekkey BETWEEN To_date('2019-11-18', 'YYYY-MM-DD') AND To_date('2020-12-31', 'YYYY-MM-DD')\n",
    "\n",
    "\n",
    "'''\n",
    "\n",
    "\n",
    "cur.execute(v2_stock_scsweek)\n",
    "v2_stock_scsweek = cur.fetchall()\n",
    "\n",
    "print(\"time :\", time.time() - start)  # 현재시각 - 시작시간 = 실행 시간\n",
    "\n",
    "v2_stock_scsweek_pd = pd.DataFrame(v2_stock_scsweek)\n",
    "v2_stock_scsweek_pd.columns = ['weekkey' ,'scskey', 'week_accept_qty' ,'week_wsl_takeout_qty', 'wms_stock_qty' ,'stock_qty','domestic_sale_qty']"
   ]
  },
  {
   "cell_type": "code",
   "execution_count": 195,
   "metadata": {},
   "outputs": [
    {
     "data": {
      "text/html": [
       "<div>\n",
       "<style scoped>\n",
       "    .dataframe tbody tr th:only-of-type {\n",
       "        vertical-align: middle;\n",
       "    }\n",
       "\n",
       "    .dataframe tbody tr th {\n",
       "        vertical-align: top;\n",
       "    }\n",
       "\n",
       "    .dataframe thead th {\n",
       "        text-align: right;\n",
       "    }\n",
       "</style>\n",
       "<table border=\"1\" class=\"dataframe\">\n",
       "  <thead>\n",
       "    <tr style=\"text-align: right;\">\n",
       "      <th></th>\n",
       "      <th>weekkey</th>\n",
       "      <th>scskey</th>\n",
       "      <th>week_accept_qty</th>\n",
       "      <th>week_wsl_takeout_qty</th>\n",
       "      <th>wms_stock_qty</th>\n",
       "      <th>stock_qty</th>\n",
       "      <th>domestic_sale_qty</th>\n",
       "    </tr>\n",
       "  </thead>\n",
       "  <tbody>\n",
       "    <tr>\n",
       "      <th>0</th>\n",
       "      <td>2020-02-10</td>\n",
       "      <td>X20SDXSHA1011WH265</td>\n",
       "      <td>0</td>\n",
       "      <td>0</td>\n",
       "      <td>1048</td>\n",
       "      <td>1587</td>\n",
       "      <td>944</td>\n",
       "    </tr>\n",
       "    <tr>\n",
       "      <th>1</th>\n",
       "      <td>2020-04-27</td>\n",
       "      <td>X20SDXSHA1011WH265</td>\n",
       "      <td>50</td>\n",
       "      <td>1</td>\n",
       "      <td>63</td>\n",
       "      <td>929</td>\n",
       "      <td>2241</td>\n",
       "    </tr>\n",
       "    <tr>\n",
       "      <th>2</th>\n",
       "      <td>2020-05-18</td>\n",
       "      <td>X20SDXSHA1011WH265</td>\n",
       "      <td>71</td>\n",
       "      <td>0</td>\n",
       "      <td>198</td>\n",
       "      <td>977</td>\n",
       "      <td>2552</td>\n",
       "    </tr>\n",
       "    <tr>\n",
       "      <th>3</th>\n",
       "      <td>2020-06-01</td>\n",
       "      <td>X20SDXSHA1011WH265</td>\n",
       "      <td>314</td>\n",
       "      <td>0</td>\n",
       "      <td>459</td>\n",
       "      <td>1183</td>\n",
       "      <td>2720</td>\n",
       "    </tr>\n",
       "    <tr>\n",
       "      <th>4</th>\n",
       "      <td>2020-06-15</td>\n",
       "      <td>X20SDXSHA1011WH265</td>\n",
       "      <td>572</td>\n",
       "      <td>0</td>\n",
       "      <td>1198</td>\n",
       "      <td>1886</td>\n",
       "      <td>2859</td>\n",
       "    </tr>\n",
       "    <tr>\n",
       "      <th>...</th>\n",
       "      <td>...</td>\n",
       "      <td>...</td>\n",
       "      <td>...</td>\n",
       "      <td>...</td>\n",
       "      <td>...</td>\n",
       "      <td>...</td>\n",
       "      <td>...</td>\n",
       "    </tr>\n",
       "    <tr>\n",
       "      <th>1057</th>\n",
       "      <td>2020-08-17</td>\n",
       "      <td>X20SDXSHA5011OW235</td>\n",
       "      <td>0</td>\n",
       "      <td>0</td>\n",
       "      <td>2635</td>\n",
       "      <td>3695</td>\n",
       "      <td>4776</td>\n",
       "    </tr>\n",
       "    <tr>\n",
       "      <th>1058</th>\n",
       "      <td>2020-08-31</td>\n",
       "      <td>X20SDXSHA5011OW235</td>\n",
       "      <td>0</td>\n",
       "      <td>0</td>\n",
       "      <td>2574</td>\n",
       "      <td>3608</td>\n",
       "      <td>4862</td>\n",
       "    </tr>\n",
       "    <tr>\n",
       "      <th>1059</th>\n",
       "      <td>2020-10-19</td>\n",
       "      <td>X20SDXSHA5011OW235</td>\n",
       "      <td>0</td>\n",
       "      <td>1</td>\n",
       "      <td>1990</td>\n",
       "      <td>2972</td>\n",
       "      <td>5493</td>\n",
       "    </tr>\n",
       "    <tr>\n",
       "      <th>1060</th>\n",
       "      <td>2020-11-16</td>\n",
       "      <td>X20SDXSHA5011OW235</td>\n",
       "      <td>0</td>\n",
       "      <td>0</td>\n",
       "      <td>1476</td>\n",
       "      <td>2457</td>\n",
       "      <td>6007</td>\n",
       "    </tr>\n",
       "    <tr>\n",
       "      <th>1061</th>\n",
       "      <td>2020-11-23</td>\n",
       "      <td>X20SDXSHA5011OW235</td>\n",
       "      <td>0</td>\n",
       "      <td>0</td>\n",
       "      <td>1360</td>\n",
       "      <td>2355</td>\n",
       "      <td>6109</td>\n",
       "    </tr>\n",
       "  </tbody>\n",
       "</table>\n",
       "<p>1062 rows × 7 columns</p>\n",
       "</div>"
      ],
      "text/plain": [
       "         weekkey              scskey  week_accept_qty  week_wsl_takeout_qty  \\\n",
       "0     2020-02-10  X20SDXSHA1011WH265                0                     0   \n",
       "1     2020-04-27  X20SDXSHA1011WH265               50                     1   \n",
       "2     2020-05-18  X20SDXSHA1011WH265               71                     0   \n",
       "3     2020-06-01  X20SDXSHA1011WH265              314                     0   \n",
       "4     2020-06-15  X20SDXSHA1011WH265              572                     0   \n",
       "...          ...                 ...              ...                   ...   \n",
       "1057  2020-08-17  X20SDXSHA5011OW235                0                     0   \n",
       "1058  2020-08-31  X20SDXSHA5011OW235                0                     0   \n",
       "1059  2020-10-19  X20SDXSHA5011OW235                0                     1   \n",
       "1060  2020-11-16  X20SDXSHA5011OW235                0                     0   \n",
       "1061  2020-11-23  X20SDXSHA5011OW235                0                     0   \n",
       "\n",
       "      wms_stock_qty  stock_qty  domestic_sale_qty  \n",
       "0              1048       1587                944  \n",
       "1                63        929               2241  \n",
       "2               198        977               2552  \n",
       "3               459       1183               2720  \n",
       "4              1198       1886               2859  \n",
       "...             ...        ...                ...  \n",
       "1057           2635       3695               4776  \n",
       "1058           2574       3608               4862  \n",
       "1059           1990       2972               5493  \n",
       "1060           1476       2457               6007  \n",
       "1061           1360       2355               6109  \n",
       "\n",
       "[1062 rows x 7 columns]"
      ]
     },
     "execution_count": 195,
     "metadata": {},
     "output_type": "execute_result"
    }
   ],
   "source": [
    "v2_stock_scsweek_pd"
   ]
  },
  {
   "cell_type": "markdown",
   "metadata": {},
   "source": [
    "# 재고가 0 인 지점"
   ]
  },
  {
   "cell_type": "markdown",
   "metadata": {},
   "source": [
    "## 버킷 디워커 재고량 0 인 지점"
   ]
  },
  {
   "cell_type": "code",
   "execution_count": 158,
   "metadata": {},
   "outputs": [
    {
     "name": "stderr",
     "output_type": "stream",
     "text": [
      "<ipython-input-158-c2e77f69cd77>:15: SettingWithCopyWarning: \n",
      "A value is trying to be set on a copy of a slice from a DataFrame.\n",
      "Try using .loc[row_indexer,col_indexer] = value instead\n",
      "\n",
      "See the caveats in the documentation: https://pandas.pydata.org/pandas-docs/stable/user_guide/indexing.html#returning-a-view-versus-a-copy\n",
      "  uniqe_shop_scskey['amount_2ewm_week'] = ewm_value[:-1]\n",
      "<ipython-input-158-c2e77f69cd77>:20: SettingWithCopyWarning: \n",
      "A value is trying to be set on a copy of a slice from a DataFrame.\n",
      "Try using .loc[row_indexer,col_indexer] = value instead\n",
      "\n",
      "See the caveats in the documentation: https://pandas.pydata.org/pandas-docs/stable/user_guide/indexing.html#returning-a-view-versus-a-copy\n",
      "  uniqe_shop_scskey['qty'] = ewm_value[:-1]\n"
     ]
    }
   ],
   "source": [
    "shop_weeks_buket_df_dep = shop_weeks_buket_df[shop_weeks_buket_df['type_zone_nm']=='백화점']\n",
    "bk_shopkey_unique =  shop_weeks_buket_df_dep.shopkey.unique()\n",
    "bk_scskey_unique =  shop_weeks_buket_df_dep.scskey.unique()\n",
    "shop_weeks_buket_df_dep = shop_weeks_buket_df_dep[shop_weeks_buket_df_dep['shopkey'] != 'X10047']\n",
    "\n",
    "bk_shop_qty = pd.DataFrame()\n",
    "\n",
    "for i in bk_shopkey_unique:\n",
    "    uniqe_shop = shop_weeks_buket_df_dep[shop_weeks_buket_df_dep['shopkey']==i]\n",
    "    for j in bk_scskey_unique:\n",
    "        uniqe_shop_scskey = uniqe_shop[uniqe_shop['scskey']==j]\n",
    "        ewm_value = make_ewm_arr(uniqe_shop_scskey, 2)\n",
    "        uniqe_shop_scskey.insert(11, 'amount_2ewm', ewm_value)\n",
    "        ewm_value = np.append([0],ewm_value,axis=0)\n",
    "        uniqe_shop_scskey['amount_2ewm_week'] = ewm_value[:-1]\n",
    "        for i in range(0,len(ewm_value)):\n",
    "#             ewm_value[i] = round(ewm_value[i] , 0)+1\n",
    "            ewm_value[i] = math.ceil(ewm_value[i])+1\n",
    "\n",
    "        uniqe_shop_scskey['qty'] = ewm_value[:-1]\n",
    "        bk_shop_qty = pd.concat([bk_shop_qty, uniqe_shop_scskey], axis=0)\n",
    "\n",
    "bk_zero = bk_shop_qty[(bk_shop_qty['stock_qty']==0) & (bk_shop_qty['takeout_qty']>0)]\n"
   ]
  },
  {
   "cell_type": "code",
   "execution_count": 159,
   "metadata": {},
   "outputs": [],
   "source": [
    "## 버킷디워커 재고량 0 인 지점과 실 재고량 확인 "
   ]
  },
  {
   "cell_type": "code",
   "execution_count": 160,
   "metadata": {},
   "outputs": [],
   "source": [
    "bk_zero_point = bk_zero[bk_zero.qty - bk_zero.week_sale_qty>0]\n",
    "bk_zero_point = bk_zero_point.sort_values(['weekkey','scskey'])"
   ]
  },
  {
   "cell_type": "code",
   "execution_count": 161,
   "metadata": {},
   "outputs": [],
   "source": [
    "bk_stock_scsweek_pd['weekkey'] = pd.to_datetime(bk_stock_scsweek_pd['weekkey'])\n",
    "bk_zero_point['weekkey'] = pd.to_datetime(bk_zero_point['weekkey'])"
   ]
  },
  {
   "cell_type": "code",
   "execution_count": 102,
   "metadata": {},
   "outputs": [],
   "source": [
    "def shop_weeks_buket_function(shop_weeks_buket_df):\n",
    "    shop_weeks_buket_df_dep = shop_weeks_buket_df[shop_weeks_buket_df['type_zone_nm']=='백화점']\n",
    "    bk_shopkey_unique =  shop_weeks_buket_df_dep.shopkey.unique()\n",
    "    bk_scskey_unique =  shop_weeks_buket_df_dep.scskey.unique()\n",
    "    shop_weeks_buket_df_dep = shop_weeks_buket_df_dep[shop_weeks_buket_df_dep['shopkey'] != 'X10047']\n",
    "\n",
    "    bk_shop_qty = pd.DataFrame()\n",
    "\n",
    "    for i in bk_shopkey_unique:\n",
    "        uniqe_shop = shop_weeks_buket_df_dep[shop_weeks_buket_df_dep['shopkey']==i]\n",
    "        for j in bk_scskey_unique:\n",
    "            uniqe_shop_scskey = uniqe_shop[uniqe_shop['scskey']==j]\n",
    "            ewm_value = make_ewm_arr(uniqe_shop_scskey, 2)\n",
    "            uniqe_shop_scskey.insert(11, 'amount_2ewm', ewm_value)\n",
    "            ewm_value = np.append([0],ewm_value,axis=0)\n",
    "            uniqe_shop_scskey['amount_2ewm_week'] = ewm_value[:-1]\n",
    "            for i in range(0,len(ewm_value)):\n",
    "    #             ewm_value[i] = round(ewm_value[i] , 0)+1\n",
    "                ewm_value[i] = math.ceil(ewm_value[i])+1\n",
    "\n",
    "            uniqe_shop_scskey['qty'] = ewm_value[:-1]\n",
    "            bk_shop_qty = pd.concat([bk_shop_qty, uniqe_shop_scskey], axis=0)\n",
    "\n",
    "    bk_zero = bk_shop_qty[(bk_shop_qty['stock_qty']==0) & (bk_shop_qty['takeout_qty']>0)]\n",
    "    return bk_zero\n"
   ]
  },
  {
   "cell_type": "markdown",
   "metadata": {},
   "source": [
    "## 버킷 디워커 창고 재고량 있는지 확인"
   ]
  },
  {
   "cell_type": "code",
   "execution_count": 162,
   "metadata": {},
   "outputs": [],
   "source": [
    "\n",
    "bk_zero_point = bk_zero[bk_zero.qty - bk_zero.week_sale_qty>0]\n",
    "bk_zero_point = bk_zero_point.sort_values(['weekkey','scskey'])\n",
    "bk_stock_scsweek_pd['weekkey'] = pd.to_datetime(bk_stock_scsweek_pd['weekkey'])\n",
    "bk_zero_point['weekkey'] = pd.to_datetime(bk_zero_point['weekkey'])\n",
    "\n",
    "# 실 재고량과 비교 \n",
    "bk_true_zero_count = 0\n",
    "for i in bk_zero_point.weekkey.unique(): # 날짜 \n",
    "    for j in bk_zero_point.scskey.unique(): # scskey\n",
    "        bk_zero_point_check = bk_zero_point[(bk_zero_point['weekkey']==i) & (bk_zero_point['scskey']==j)] # 해당 날짜의 scskey가 있는지 확인 \n",
    "        if len(bk_zero_point_check) == 0 : # 없으면 다음으로 넘기고 \n",
    "            break\n",
    "            \n",
    "        # 있을 경우에 해당 날짜 scskey 의 창고 물량을 확인\n",
    "        wms_stock = bk_stock_scsweek_pd[(bk_stock_scsweek_pd['weekkey']==bk_zero_point_check.iloc[0].weekkey) & (bk_stock_scsweek_pd.scskey ==bk_zero_point_check.iloc[0].scskey) ][['wms_stock_qty']].iloc[0][0] \n",
    "\n",
    "        for z in range(0,len(bk_zero_point_check)):            # 창고내 해당 물건의 재고량 - 재고 0 이였던 지점의 qty \n",
    "            if wms_stock - bk_zero_point_check.iloc[z].qty>0:  # 1보다  클 경우만 \n",
    "                bk_true_zero_count+=1                          # count +1 하고\n",
    "                wms_stock-= bk_zero_point_check.iloc[z].qty    # wms의 값 또한 빼기한다.\n",
    "            else:                                              # 1보다 작으면 break 하고 다음 for 문으로 넘긴다.\n",
    "                break"
   ]
  },
  {
   "cell_type": "code",
   "execution_count": 163,
   "metadata": {
    "scrolled": true
   },
   "outputs": [
    {
     "data": {
      "text/plain": [
       "1309"
      ]
     },
     "execution_count": 163,
     "metadata": {},
     "output_type": "execute_result"
    }
   ],
   "source": [
    "# 재고 반영\n",
    "bk_true_zero_count"
   ]
  },
  {
   "cell_type": "code",
   "execution_count": 164,
   "metadata": {},
   "outputs": [
    {
     "data": {
      "text/plain": [
       "1863"
      ]
     },
     "execution_count": 164,
     "metadata": {},
     "output_type": "execute_result"
    }
   ],
   "source": [
    "# 재고 없이 로직으로\n",
    "len(bk_zero_point)"
   ]
  },
  {
   "cell_type": "code",
   "execution_count": 165,
   "metadata": {},
   "outputs": [
    {
     "data": {
      "text/plain": [
       "2225"
      ]
     },
     "execution_count": 165,
     "metadata": {},
     "output_type": "execute_result"
    }
   ],
   "source": [
    "# 재고가 0 인 지점 \n",
    "len(bk_zero)"
   ]
  },
  {
   "cell_type": "code",
   "execution_count": 179,
   "metadata": {},
   "outputs": [],
   "source": [
    "# 실 재고로 비교하는 함수\n",
    "def bk_stock_zero_function(bk_zero):\n",
    "    bk_zero_point = bk_zero[bk_zero.qty - bk_zero.week_sale_qty>0]\n",
    "    bk_zero_point = bk_zero_point.sort_values(['weekkey','scskey'])\n",
    "    bk_stock_scsweek_pd['weekkey'] = pd.to_datetime(bk_stock_scsweek_pd['weekkey'])\n",
    "    bk_zero_point['weekkey'] = pd.to_datetime(bk_zero_point['weekkey'])\n",
    "\n",
    "    # 실 재고량과 비교 \n",
    "    bk_true_zero_count = 0\n",
    "    for i in bk_zero_point.weekkey.unique(): # 날짜 \n",
    "        for j in bk_zero_point.scskey.unique(): # scskey\n",
    "            bk_zero_point_check = bk_zero_point[(bk_zero_point['weekkey']==i) & (bk_zero_point['scskey']==j)] # 해당 날짜의 scskey가 있는지 확인 \n",
    "            if len(bk_zero_point_check) == 0 : # 없으면 다음으로 넘기고 \n",
    "                break\n",
    "\n",
    "            # 있을 경우에 해당 날짜 scskey 의 창고 물량을 확인\n",
    "            wms_stock = bk_stock_scsweek_pd[(bk_stock_scsweek_pd['weekkey']==bk_zero_point_check.iloc[0].weekkey) & (bk_stock_scsweek_pd.scskey ==bk_zero_point_check.iloc[0].scskey) ][['wms_stock_qty']].iloc[0][0] \n",
    "\n",
    "            for z in range(0,len(bk_zero_point_check)):            # 창고내 해당 물건의 재고량 - 재고 0 이였던 지점의 qty \n",
    "                if wms_stock - bk_zero_point_check.iloc[z].qty>0:  # 1보다  클 경우만 \n",
    "                    bk_true_zero_count+=1                          # count +1 하고\n",
    "                    wms_stock-= bk_zero_point_check.iloc[z].qty    # wms의 값 또한 빼기한다.\n",
    "                else:                                              # 1보다 작으면 break 하고 다음 for 문으로 넘긴다.\n",
    "                    break\n",
    "    zero_count = len(bk_zero) - bk_true_zero_count\n",
    "    return zero_count"
   ]
  },
  {
   "cell_type": "markdown",
   "metadata": {},
   "source": [
    "## v2 재고량 0인 지점 확인"
   ]
  },
  {
   "cell_type": "code",
   "execution_count": 14,
   "metadata": {
    "collapsed": true
   },
   "outputs": [
    {
     "name": "stderr",
     "output_type": "stream",
     "text": [
      "<ipython-input-14-7f246e1b3243>:15: SettingWithCopyWarning: \n",
      "A value is trying to be set on a copy of a slice from a DataFrame.\n",
      "Try using .loc[row_indexer,col_indexer] = value instead\n",
      "\n",
      "See the caveats in the documentation: https://pandas.pydata.org/pandas-docs/stable/user_guide/indexing.html#returning-a-view-versus-a-copy\n",
      "  uniqe_shop_scskey['amount_2ewm_week'] = ewm_value[:-1]\n",
      "<ipython-input-14-7f246e1b3243>:20: SettingWithCopyWarning: \n",
      "A value is trying to be set on a copy of a slice from a DataFrame.\n",
      "Try using .loc[row_indexer,col_indexer] = value instead\n",
      "\n",
      "See the caveats in the documentation: https://pandas.pydata.org/pandas-docs/stable/user_guide/indexing.html#returning-a-view-versus-a-copy\n",
      "  uniqe_shop_scskey['qty'] = ewm_value[:-1]\n"
     ]
    }
   ],
   "source": [
    "shop_weeks_buket_v2_df_dep = shop_weeks_buket_v2_df[shop_weeks_buket_v2_df['type_zone_nm']=='백화점']\n",
    "shop_weeks_buket_v2_df_dep = shop_weeks_buket_v2_df_dep[shop_weeks_buket_v2_df_dep['shopkey'] != 'X10047']\n",
    "v2_shopkey_unique =  shop_weeks_buket_v2_df_dep.shopkey.unique()\n",
    "v2_scskey_unique =  shop_weeks_buket_v2_df_dep.scskey.unique()\n",
    "\n",
    "v2_shop_qty = pd.DataFrame()\n",
    "\n",
    "for i in v2_shopkey_unique:\n",
    "    uniqe_shop = shop_weeks_buket_v2_df_dep[shop_weeks_buket_v2_df_dep['shopkey']==i]\n",
    "    for j in v2_scskey_unique:\n",
    "        uniqe_shop_scskey = uniqe_shop[uniqe_shop['scskey']==j]\n",
    "        ewm_value = make_ewm_arr(uniqe_shop_scskey, 2)\n",
    "        uniqe_shop_scskey.insert(11, 'amount_2ewm', ewm_value)\n",
    "        ewm_value = np.append([0],ewm_value,axis=0)\n",
    "        uniqe_shop_scskey['amount_2ewm_week'] = ewm_value[:-1]\n",
    "        for i in range(0,len(ewm_value)):\n",
    "#             ewm_value[i] = round(ewm_value[i] , 0)+1\n",
    "            ewm_value[i] = math.ceil(ewm_value[i])+1\n",
    "\n",
    "        uniqe_shop_scskey['qty'] = ewm_value[:-1]\n",
    "        v2_shop_qty = pd.concat([v2_shop_qty, uniqe_shop_scskey], axis=0)\n",
    "v2_zero = v2_shop_qty[(v2_shop_qty['stock_qty']==0) & (v2_shop_qty['takeout_qty']>0)]"
   ]
  },
  {
   "cell_type": "code",
   "execution_count": null,
   "metadata": {},
   "outputs": [],
   "source": [
    "def shop_weeks_buket_function(shop_weeks_buket_df):\n",
    "    shop_weeks_buket_df_dep = shop_weeks_buket_df[shop_weeks_buket_df['type_zone_nm']=='백화점']\n",
    "    bk_shopkey_unique =  shop_weeks_buket_df_dep.shopkey.unique()\n",
    "    bk_scskey_unique =  shop_weeks_buket_df_dep.scskey.unique()\n",
    "    shop_weeks_buket_df_dep = shop_weeks_buket_df_dep[shop_weeks_buket_df_dep['shopkey'] != 'X10047']\n",
    "\n",
    "    bk_shop_qty = pd.DataFrame()\n",
    "\n",
    "    for i in bk_shopkey_unique:\n",
    "        uniqe_shop = shop_weeks_buket_df_dep[shop_weeks_buket_df_dep['shopkey']==i]\n",
    "        for j in bk_scskey_unique:\n",
    "            uniqe_shop_scskey = uniqe_shop[uniqe_shop['scskey']==j]\n",
    "            ewm_value = make_ewm_arr(uniqe_shop_scskey, 2)\n",
    "            uniqe_shop_scskey.insert(11, 'amount_2ewm', ewm_value)\n",
    "            ewm_value = np.append([0],ewm_value,axis=0)\n",
    "            uniqe_shop_scskey['amount_2ewm_week'] = ewm_value[:-1]\n",
    "            for i in range(0,len(ewm_value)):\n",
    "    #             ewm_value[i] = round(ewm_value[i] , 0)+1\n",
    "                ewm_value[i] = math.ceil(ewm_value[i])+1\n",
    "\n",
    "            uniqe_shop_scskey['qty'] = ewm_value[:-1]\n",
    "            bk_shop_qty = pd.concat([bk_shop_qty, uniqe_shop_scskey], axis=0)\n",
    "\n",
    "    bk_zero = bk_shop_qty[(bk_shop_qty['stock_qty']==0) & (bk_shop_qty['takeout_qty']>0)]\n",
    "    return bk_zero\n"
   ]
  },
  {
   "cell_type": "code",
   "execution_count": 212,
   "metadata": {},
   "outputs": [],
   "source": [
    "def shop_weeks_buket_v2_function(shop_weeks_buket_v2_df):\n",
    "    shop_weeks_buket_v2_df_dep = shop_weeks_buket_v2_df[shop_weeks_buket_v2_df['type_zone_nm']=='백화점']\n",
    "    shop_weeks_buket_v2_df_dep = shop_weeks_buket_v2_df_dep[shop_weeks_buket_v2_df_dep['shopkey'] != 'X10047']\n",
    "    v2_shopkey_unique =  shop_weeks_buket_v2_df_dep.shopkey.unique()\n",
    "    v2_scskey_unique =  shop_weeks_buket_v2_df_dep.scskey.unique()\n",
    "\n",
    "    v2_shop_qty = pd.DataFrame()\n",
    "\n",
    "    for i in v2_shopkey_unique:\n",
    "        uniqe_shop = shop_weeks_buket_v2_df_dep[shop_weeks_buket_v2_df_dep['shopkey']==i]\n",
    "        for j in v2_scskey_unique:\n",
    "            uniqe_shop_scskey = uniqe_shop[uniqe_shop['scskey']==j]\n",
    "            ewm_value = make_ewm_arr(uniqe_shop_scskey, 2)\n",
    "            uniqe_shop_scskey.insert(11, 'amount_2ewm', ewm_value)\n",
    "            ewm_value = np.append([0],ewm_value,axis=0)\n",
    "            uniqe_shop_scskey['amount_2ewm_week'] = ewm_value[:-1]\n",
    "            for i in range(0,len(ewm_value)):\n",
    "    #             ewm_value[i] = round(ewm_value[i] , 0)+1\n",
    "                ewm_value[i] = math.ceil(ewm_value[i])+1\n",
    "\n",
    "            uniqe_shop_scskey['qty'] = ewm_value[:-1]\n",
    "            v2_shop_qty = pd.concat([v2_shop_qty, uniqe_shop_scskey], axis=0)\n",
    "    v2_zero = v2_shop_qty[(v2_shop_qty['stock_qty']==0) & (v2_shop_qty['takeout_qty']>0)]\n",
    "    return v2_zero\n"
   ]
  },
  {
   "cell_type": "markdown",
   "metadata": {},
   "source": [
    "## v2 버킷 디워커 창고 재고량 있는지 확인"
   ]
  },
  {
   "cell_type": "code",
   "execution_count": null,
   "metadata": {},
   "outputs": [],
   "source": [
    "## 버킷 디워커 v2  창고 재고량 있는지 확인\n",
    "\n",
    "v2_zero_point = v2_zero[v2_zero.qty - v2_zero.week_sale_qty>0]\n",
    "v2_zero_point = v2_zero_point.sort_values(['weekkey','scskey'])"
   ]
  },
  {
   "cell_type": "code",
   "execution_count": 35,
   "metadata": {},
   "outputs": [],
   "source": [
    "v2_stock_scsweek_pd['weekkey'] = pd.to_datetime(v2_stock_scsweek_pd['weekkey'])\n",
    "v2_zero_point['weekkey'] = pd.to_datetime(v2_zero_point['weekkey'])"
   ]
  },
  {
   "cell_type": "code",
   "execution_count": 36,
   "metadata": {},
   "outputs": [],
   "source": [
    "# 실 재고량과 비교 \n",
    "v2_true_zero_count = 0\n",
    "for i in v2_zero_point.weekkey.unique(): # 날짜 \n",
    "    for j in v2_zero_point.scskey.unique(): # scskey\n",
    "        v2_zero_point_check = v2_zero_point[(v2_zero_point['weekkey']==i) & (v2_zero_point['scskey']==j)] # 해당 날짜의 scskey가 있는지 확인 \n",
    "        if len(v2_zero_point_check) == 0 : # 없으면 다음으로 넘기고 \n",
    "            break\n",
    "            \n",
    "        # 있을 경우에 해당 날짜 scskey 의 창고 물량을 확인\n",
    "        v2_wms_stock = v2_stock_scsweek_pd[(v2_stock_scsweek_pd['weekkey']==v2_zero_point_check.iloc[0].weekkey) & (v2_stock_scsweek_pd.scskey ==v2_zero_point_check.iloc[0].scskey) ][['wms_stock_qty']].iloc[0][0] \n",
    "\n",
    "        for z in range(0,len(v2_zero_point_check)):            # 창고내 해당 물건의 재고량 - 재고 0 이였던 지점의 qty \n",
    "            if v2_wms_stock - v2_zero_point_check.iloc[z].qty>0:  # 1보다  클 경우만 \n",
    "                v2_true_zero_count+=1                          # count +1 하고\n",
    "                v2_wms_stock-= v2_zero_point_check.iloc[z].qty    # wms의 값 또한 빼기한다.\n",
    "            else:                                              # 1보다 작으면 break 하고 다음 for 문으로 넘긴다.\n",
    "                break"
   ]
  },
  {
   "cell_type": "code",
   "execution_count": 37,
   "metadata": {
    "scrolled": true
   },
   "outputs": [
    {
     "data": {
      "text/plain": [
       "50"
      ]
     },
     "execution_count": 37,
     "metadata": {},
     "output_type": "execute_result"
    }
   ],
   "source": [
    "v2_true_zero_count"
   ]
  },
  {
   "cell_type": "code",
   "execution_count": 38,
   "metadata": {},
   "outputs": [
    {
     "data": {
      "text/plain": [
       "78"
      ]
     },
     "execution_count": 38,
     "metadata": {},
     "output_type": "execute_result"
    }
   ],
   "source": [
    "len(v2_zero_point)"
   ]
  },
  {
   "cell_type": "code",
   "execution_count": 39,
   "metadata": {},
   "outputs": [
    {
     "data": {
      "text/plain": [
       "240"
      ]
     },
     "execution_count": 39,
     "metadata": {},
     "output_type": "execute_result"
    }
   ],
   "source": [
    "len(v2_zero)"
   ]
  },
  {
   "cell_type": "code",
   "execution_count": 180,
   "metadata": {},
   "outputs": [],
   "source": [
    "# 실 재고로 비교하는 함수\n",
    "def v2_stock_zero_function(v2_zero):\n",
    "    v2_zero_point = v2_zero[v2_zero.qty - v2_zero.week_sale_qty>0]\n",
    "    v2_zero_point = v2_zero_point.sort_values(['weekkey','scskey'])\n",
    "    v2_stock_scsweek_pd['weekkey'] = pd.to_datetime(v2_stock_scsweek_pd['weekkey'])\n",
    "    v2_zero_point['weekkey'] = pd.to_datetime(v2_zero_point['weekkey'])\n",
    "\n",
    "        # 실 재고량과 비교 \n",
    "    v2_true_zero_count = 0\n",
    "    for i in v2_zero_point.weekkey.unique(): # 날짜 \n",
    "        for j in v2_zero_point.scskey.unique(): # scskey\n",
    "            v2_zero_point_check = v2_zero_point[(v2_zero_point['weekkey']==i) & (v2_zero_point['scskey']==j)] # 해당 날짜의 scskey가 있는지 확인 \n",
    "            if len(v2_zero_point_check) == 0 : # 없으면 다음으로 넘기고 \n",
    "                break\n",
    "\n",
    "            # 있을 경우에 해당 날짜 scskey 의 창고 물량을 확인\n",
    "            v2_wms_stock = v2_stock_scsweek_pd[(v2_stock_scsweek_pd['weekkey']==v2_zero_point_check.iloc[0].weekkey) & (v2_stock_scsweek_pd.scskey ==v2_zero_point_check.iloc[0].scskey) ][['wms_stock_qty']].iloc[0][0] \n",
    "\n",
    "            for z in range(0,len(v2_zero_point_check)):            # 창고내 해당 물건의 재고량 - 재고 0 이였던 지점의 qty \n",
    "                if v2_wms_stock - v2_zero_point_check.iloc[z].qty>0:  # 1보다  클 경우만 \n",
    "                    v2_true_zero_count+=1                          # count +1 하고\n",
    "                    v2_wms_stock-= v2_zero_point_check.iloc[z].qty    # wms의 값 또한 빼기한다.\n",
    "                else:                                              # 1보다 작으면 break 하고 다음 for 문으로 넘긴다.\n",
    "                    break\n",
    "    zero_count = len(v2_zero) - v2_true_zero_count\n",
    "    return zero_count"
   ]
  },
  {
   "cell_type": "markdown",
   "metadata": {},
   "source": [
    "# 과잉 재고가 되지 않는지 (MAE 값 비교)"
   ]
  },
  {
   "cell_type": "code",
   "execution_count": null,
   "metadata": {},
   "outputs": [],
   "source": [
    "## 버킷 디워커 MAE 값 비교"
   ]
  },
  {
   "cell_type": "code",
   "execution_count": 63,
   "metadata": {},
   "outputs": [],
   "source": [
    "bk_shopkey_unique = bk_shop_qty.shopkey.unique()\n",
    "bk_scskey_unique = bk_shop_qty.scskey.unique()\n",
    "bk_ori_mae_list=[]\n",
    "bk_imp_mae_list=[]\n",
    "\n",
    "bk_score_list = []\n",
    "bk_score_list2 = []\n",
    "\n",
    "for i in bk_shopkey_unique:\n",
    "    for j in bk_scskey_unique:\n",
    "#         print(test1[(test1['shopkey']==i) & (test1['scskey']==j)].week_takeout_qty[1:])\n",
    "        bk_ori_mae_list.append(mae( bk_shop_qty[(bk_shop_qty['shopkey']==i) & (bk_shop_qty['scskey']==j)].week_takeout_qty[1:] ,bk_shop_qty[(bk_shop_qty['shopkey']==i) & (bk_shop_qty['scskey']==j)].stock_qty[:-1] ))\n",
    "        bk_imp_mae_list.append(mae( bk_shop_qty[(bk_shop_qty['shopkey']==i) & (bk_shop_qty['scskey']==j)].week_takeout_qty[1:-1] ,bk_shop_qty[(bk_shop_qty['shopkey']==i) & (bk_shop_qty['scskey']==j)].qty[1:-1] ))\n",
    "\n",
    "        bk_score_list.append ( sum((bk_shop_qty[(bk_shop_qty['shopkey']==i) & (bk_shop_qty['scskey']==j)].week_takeout_qty[1:]-bk_shop_qty[(bk_shop_qty['shopkey']==i) & (bk_shop_qty['scskey']==j)].stock_qty[:-1] ).dropna()))\n",
    "        bk_score_list2.append ( sum((bk_shop_qty[(bk_shop_qty['shopkey']==i) & (bk_shop_qty['scskey']==j)].week_takeout_qty[1:]-bk_shop_qty[(bk_shop_qty['shopkey']==i) & (bk_shop_qty['scskey']==j)].qty[1:] ).dropna()))\n",
    "\n",
    "#         break\n",
    "#     break\n",
    "        \n",
    "    "
   ]
  },
  {
   "cell_type": "code",
   "execution_count": 64,
   "metadata": {},
   "outputs": [
    {
     "data": {
      "text/plain": [
       "4.663024475524476"
      ]
     },
     "execution_count": 64,
     "metadata": {},
     "output_type": "execute_result"
    }
   ],
   "source": [
    "np.mean(bk_ori_mae_list)"
   ]
  },
  {
   "cell_type": "code",
   "execution_count": 65,
   "metadata": {},
   "outputs": [
    {
     "data": {
      "text/plain": [
       "1.9543969102792633"
      ]
     },
     "execution_count": 65,
     "metadata": {},
     "output_type": "execute_result"
    }
   ],
   "source": [
    "np.mean(bk_imp_mae_list)"
   ]
  },
  {
   "cell_type": "code",
   "execution_count": 55,
   "metadata": {},
   "outputs": [],
   "source": [
    "## v2 버킷 디워커 MAE 값 비교"
   ]
  },
  {
   "cell_type": "code",
   "execution_count": 51,
   "metadata": {},
   "outputs": [],
   "source": [
    "v2_shopkey_unique = v2_shop_qty.shopkey.unique()\n",
    "v2_scskey_unique = v2_shop_qty.scskey.unique()\n",
    "v2_ori_mae_list=[]\n",
    "v2_imp_mae_list=[]\n",
    "\n",
    "v2_score_list = []\n",
    "v2_score_list2 = []\n",
    "\n",
    "for i in v2_shopkey_unique:\n",
    "    for j in v2_scskey_unique:\n",
    "#         print(test1[(test1['shopkey']==i) & (test1['scskey']==j)].week_takeout_qty[1:])\n",
    "        v2_ori_mae_list.append(mae( v2_shop_qty[(v2_shop_qty['shopkey']==i) & (v2_shop_qty['scskey']==j)].week_takeout_qty[1:] ,v2_shop_qty[(v2_shop_qty['shopkey']==i) & (v2_shop_qty['scskey']==j)].stock_qty[:-1] ))\n",
    "        v2_imp_mae_list.append(mae( v2_shop_qty[(v2_shop_qty['shopkey']==i) & (v2_shop_qty['scskey']==j)].week_takeout_qty[1:-1] ,v2_shop_qty[(v2_shop_qty['shopkey']==i) & (v2_shop_qty['scskey']==j)].qty[1:-1] ))\n",
    "\n",
    "        v2_score_list.append ( sum((v2_shop_qty[(v2_shop_qty['shopkey']==i) & (v2_shop_qty['scskey']==j)].week_takeout_qty[1:]-v2_shop_qty[(v2_shop_qty['shopkey']==i) & (v2_shop_qty['scskey']==j)].stock_qty[:-1] ).dropna()))\n",
    "        v2_score_list2.append ( sum((v2_shop_qty[(v2_shop_qty['shopkey']==i) & (v2_shop_qty['scskey']==j)].week_takeout_qty[1:]-v2_shop_qty[(v2_shop_qty['shopkey']==i) & (v2_shop_qty['scskey']==j)].qty[1:] ).dropna()))\n",
    "\n",
    "#         break\n",
    "#     break\n",
    "        \n",
    "    "
   ]
  },
  {
   "cell_type": "code",
   "execution_count": 53,
   "metadata": {},
   "outputs": [
    {
     "data": {
      "text/plain": [
       "4.0462382445141065"
      ]
     },
     "execution_count": 53,
     "metadata": {},
     "output_type": "execute_result"
    }
   ],
   "source": [
    "np.mean(v2_ori_mae_list)"
   ]
  },
  {
   "cell_type": "code",
   "execution_count": 54,
   "metadata": {
    "scrolled": true
   },
   "outputs": [
    {
     "data": {
      "text/plain": [
       "1.709418748892433"
      ]
     },
     "execution_count": 54,
     "metadata": {},
     "output_type": "execute_result"
    }
   ],
   "source": [
    "np.mean(v2_imp_mae_list)"
   ]
  },
  {
   "cell_type": "code",
   "execution_count": null,
   "metadata": {},
   "outputs": [],
   "source": [
    "## 재고 총 개수 "
   ]
  },
  {
   "cell_type": "code",
   "execution_count": 72,
   "metadata": {},
   "outputs": [
    {
     "data": {
      "text/plain": [
       "95504"
      ]
     },
     "execution_count": 72,
     "metadata": {},
     "output_type": "execute_result"
    }
   ],
   "source": [
    "bk_shop_qty.stock_qty.sum()"
   ]
  },
  {
   "cell_type": "code",
   "execution_count": 73,
   "metadata": {},
   "outputs": [
    {
     "data": {
      "text/plain": [
       "47090.0"
      ]
     },
     "execution_count": 73,
     "metadata": {},
     "output_type": "execute_result"
    }
   ],
   "source": [
    "bk_shop_qty.qty.sum()"
   ]
  },
  {
   "cell_type": "code",
   "execution_count": 67,
   "metadata": {
    "scrolled": true
   },
   "outputs": [
    {
     "data": {
      "text/plain": [
       "103277"
      ]
     },
     "execution_count": 67,
     "metadata": {},
     "output_type": "execute_result"
    }
   ],
   "source": [
    "v2_shop_qty.stock_qty.sum()"
   ]
  },
  {
   "cell_type": "code",
   "execution_count": 69,
   "metadata": {},
   "outputs": [
    {
     "data": {
      "text/plain": [
       "51866.0"
      ]
     },
     "execution_count": 69,
     "metadata": {},
     "output_type": "execute_result"
    }
   ],
   "source": [
    "v2_shop_qty.qty.sum()"
   ]
  },
  {
   "cell_type": "markdown",
   "metadata": {},
   "source": [
    "# 매장별 부족한 입출판재 채우는 로직 "
   ]
  },
  {
   "cell_type": "code",
   "execution_count": 78,
   "metadata": {},
   "outputs": [],
   "source": [
    "df_INNER_JOIN['weekkey'] = pd.to_datetime(df_INNER_JOIN['weekkey'])"
   ]
  },
  {
   "cell_type": "code",
   "execution_count": 80,
   "metadata": {},
   "outputs": [],
   "source": [
    "bucket_dwalker = df_INNER_JOIN[(df_INNER_JOIN['partkey'].str.contains(\"X19SDXSH09911\")) & (df_INNER_JOIN['weekkey'] < '2019-12-31' ) ]"
   ]
  },
  {
   "cell_type": "code",
   "execution_count": 81,
   "metadata": {},
   "outputs": [],
   "source": [
    "bucket_dwalker_v2 = df_INNER_JOIN[df_INNER_JOIN['partkey'].str.contains(\"X20SDXSHA5011|X20SDXSHA3011|X20SDXSHA1011|X20SDXSHA1011\") & (df_INNER_JOIN['weekkey'] < '2020-12-31' )]"
   ]
  },
  {
   "cell_type": "code",
   "execution_count": 82,
   "metadata": {},
   "outputs": [],
   "source": [
    "# 빠져있는 주차 채워주는 로직\n",
    "\n",
    "def zero_fill(shopkey, base, scskey_list,item):\n",
    "    total=[]\n",
    "    for col in base.columns:\n",
    "        base[col].values[:] = 0\n",
    "    for scskey in scskey_list:\n",
    "        for shop in shopkey:\n",
    "            frame = base.reset_index()\n",
    "            target = item[(item['scskey']==scskey) & (item['shopkey']==shop )].groupby('weekkey').sum().reset_index()\n",
    "            target = target.reset_index()\n",
    "\n",
    "            for i in range(0,len(target)):\n",
    "                for j in range(0,len(frame)):\n",
    "                        if target.iloc[i].weekkey == frame.iloc[j].weekkey:\n",
    "                            frame.iloc[j] = target.iloc[i]\n",
    "                            break\n",
    "            for i in range(1,len(frame)):\n",
    "                if frame.iloc[i].takeout_qty ==0 and frame.iloc[i].sale_qty==0:\n",
    "                    frame.iloc[i] = [ frame.iloc[i]['weekkey'], 0, frame.iloc[i-1]['takeout_qty'], 0, frame.iloc[i-1]['sale_qty'], frame.iloc[i-1]['stock_qty']]\n",
    "            frame['shopkey'] =shop\n",
    "            frame['ratio'] = 0\n",
    "            for i in range(0,len(frame)):\n",
    "                total_sale_qty= frame['week_sale_qty'].sum()\n",
    "                a = frame.iloc[i]\n",
    "                if a['sale_qty']==0 :\n",
    "                    frame.iloc[i] = [a[0],a[1] ,a[2] ,a[3] ,a[4] ,a[5],a[6] , 0]\n",
    "                else:\n",
    "                    if a['sale_qty'] / total_sale_qty > 1:\n",
    "                        frame.iloc[i] = [a[0],a[1] ,a[2] ,a[3] ,a[4] ,a[5],a[6] , 1]\n",
    "                    else:\n",
    "                        frame.iloc[i] = [a[0],a[1] ,a[2] ,a[3] ,a[4] ,a[5],a[6] , a['sale_qty'] / total_sale_qty]\n",
    "            else:\n",
    "                frame['scskey']=scskey\n",
    "            frame = pd.merge(frame, shop_info_pd, left_on='shopkey', right_on='shopkey', how='inner')\n",
    "            total.append(frame)\n",
    "    return total\n"
   ]
  },
  {
   "cell_type": "code",
   "execution_count": null,
   "metadata": {},
   "outputs": [],
   "source": [
    "## 버킷 디워커"
   ]
  },
  {
   "cell_type": "code",
   "execution_count": 86,
   "metadata": {},
   "outputs": [],
   "source": [
    "# BE\n",
    "scskey_list = ['X19SDXSH09911BE230','X19SDXSH09911BE235','X19SDXSH09911BE240','X19SDXSH09911BE260','X19SDXSH09911BE265','X19SDXSH09911BE270']\n",
    "frame = bucket_dwalker[(bucket_dwalker['scskey']=='X19SDXSH09911BE240')][['shopkey','weekkey','week_takeout_qty','takeout_qty','week_sale_qty','sale_qty','stock_qty']].groupby('weekkey').sum()\n",
    "bucket_dwalker_shop_key = bucket_dwalker['shopkey'].unique()\n",
    "\n",
    "\n",
    "shop_weeks_buket = zero_fill(bucket_dwalker_shop_key, frame,scskey_list,bucket_dwalker)\n",
    "be_shop_weeks_buket_df = pd.concat(shop_weeks_buket)"
   ]
  },
  {
   "cell_type": "code",
   "execution_count": 90,
   "metadata": {},
   "outputs": [
    {
     "name": "stderr",
     "output_type": "stream",
     "text": [
      "<ipython-input-82-b30433df00a6>:29: RuntimeWarning: divide by zero encountered in longlong_scalars\n",
      "  if a['sale_qty'] / total_sale_qty > 1:\n",
      "<ipython-input-82-b30433df00a6>:32: RuntimeWarning: divide by zero encountered in longlong_scalars\n",
      "  frame.iloc[i] = [a[0],a[1] ,a[2] ,a[3] ,a[4] ,a[5],a[6] , a['sale_qty'] / total_sale_qty]\n"
     ]
    }
   ],
   "source": [
    "# GR\n",
    "scskey_list = ['X19SDXSH09911GR230','X19SDXSH09911GR235','X19SDXSH09911GR240','X19SDXSH09911GR260','X19SDXSH09911GR265','X19SDXSH09911GR270']\n",
    "frame = bucket_dwalker[(bucket_dwalker['scskey']=='X19SDXSH09911GR240')][['shopkey','weekkey','week_takeout_qty','takeout_qty','week_sale_qty','sale_qty','stock_qty']].groupby('weekkey').sum()\n",
    "bucket_dwalker_shop_key = bucket_dwalker['shopkey'].unique()\n",
    "\n",
    "\n",
    "shop_weeks_buket = zero_fill(bucket_dwalker_shop_key, frame,scskey_list,bucket_dwalker)\n",
    "gr_shop_weeks_buket_df = pd.concat(shop_weeks_buket)"
   ]
  },
  {
   "cell_type": "code",
   "execution_count": 93,
   "metadata": {},
   "outputs": [
    {
     "name": "stderr",
     "output_type": "stream",
     "text": [
      "<ipython-input-82-b30433df00a6>:29: RuntimeWarning: divide by zero encountered in longlong_scalars\n",
      "  if a['sale_qty'] / total_sale_qty > 1:\n",
      "<ipython-input-82-b30433df00a6>:32: RuntimeWarning: divide by zero encountered in longlong_scalars\n",
      "  frame.iloc[i] = [a[0],a[1] ,a[2] ,a[3] ,a[4] ,a[5],a[6] , a['sale_qty'] / total_sale_qty]\n"
     ]
    }
   ],
   "source": [
    "# WH\n",
    "scskey_list = ['X19SDXSH09911WH230','X19SDXSH09911WH235','X19SDXSH09911WH240','X19SDXSH09911WH260','X19SDXSH09911WH265','X19SDXSH09911WH270']\n",
    "frame = bucket_dwalker[(bucket_dwalker['scskey']=='X19SDXSH09911WH240')][['shopkey','weekkey','week_takeout_qty','takeout_qty','week_sale_qty','sale_qty','stock_qty']].groupby('weekkey').sum()\n",
    "bucket_dwalker_shop_key = bucket_dwalker['shopkey'].unique()\n",
    "\n",
    "\n",
    "shop_weeks_buket = zero_fill(bucket_dwalker_shop_key, frame,scskey_list,bucket_dwalker)\n",
    "wh_shop_weeks_buket_df = pd.concat(shop_weeks_buket)"
   ]
  },
  {
   "cell_type": "code",
   "execution_count": 95,
   "metadata": {},
   "outputs": [
    {
     "name": "stderr",
     "output_type": "stream",
     "text": [
      "<ipython-input-82-b30433df00a6>:29: RuntimeWarning: divide by zero encountered in longlong_scalars\n",
      "  if a['sale_qty'] / total_sale_qty > 1:\n"
     ]
    }
   ],
   "source": [
    "# BK\n",
    "\n",
    "scskey_list = ['X19SDXSH09911BK230','X19SDXSH09911BK235','X19SDXSH09911BK240','X19SDXSH09911BK260','X19SDXSH09911BK265','X19SDXSH09911BK270']\n",
    "frame = bucket_dwalker[(bucket_dwalker['scskey']=='X19SDXSH09911BK240')][['shopkey','weekkey','week_takeout_qty','takeout_qty','week_sale_qty','sale_qty','stock_qty']].groupby('weekkey').sum()\n",
    "bucket_dwalker_shop_key = bucket_dwalker['shopkey'].unique()\n",
    "\n",
    "\n",
    "shop_weeks_buket = zero_fill(bucket_dwalker_shop_key, frame,scskey_list,bucket_dwalker)\n",
    "bk_shop_weeks_buket_df = pd.concat(shop_weeks_buket)"
   ]
  },
  {
   "cell_type": "markdown",
   "metadata": {},
   "source": [
    "## v2 버킷 디워커"
   ]
  },
  {
   "cell_type": "code",
   "execution_count": 113,
   "metadata": {},
   "outputs": [],
   "source": [
    "# OW \n",
    "scskey_list = ['X20SDXSHA5011OW230','X20SDXSHA5011OW235','X20SDXSHA5011OW240','X20SDXSHA5011OW260','X20SDXSHA5011OW265','X20SDXSHA5011OW270']\n",
    "frame = bucket_dwalker_v2[(bucket_dwalker_v2['scskey']=='X20SDXSHA5011OW240')][['shopkey','weekkey','week_takeout_qty','takeout_qty','week_sale_qty','sale_qty','stock_qty']].groupby('weekkey').sum()\n",
    "bucket_dwalker_v2_shop_key = bucket_dwalker_v2['shopkey'].unique()\n",
    "\n",
    "\n",
    "shop_weeks_buket_v2 = zero_fill(bucket_dwalker_v2_shop_key, frame,scskey_list,bucket_dwalker_v2)\n",
    "ow_shop_weeks_buket_v2_df = pd.concat(shop_weeks_buket_v2)"
   ]
  },
  {
   "cell_type": "code",
   "execution_count": 98,
   "metadata": {},
   "outputs": [
    {
     "name": "stderr",
     "output_type": "stream",
     "text": [
      "<ipython-input-82-b30433df00a6>:29: RuntimeWarning: divide by zero encountered in longlong_scalars\n",
      "  if a['sale_qty'] / total_sale_qty > 1:\n",
      "<ipython-input-82-b30433df00a6>:32: RuntimeWarning: divide by zero encountered in longlong_scalars\n",
      "  frame.iloc[i] = [a[0],a[1] ,a[2] ,a[3] ,a[4] ,a[5],a[6] , a['sale_qty'] / total_sale_qty]\n"
     ]
    }
   ],
   "source": [
    "# wh\n",
    "scskey_list = ['X20SDXSHA1011WH230','X20SDXSHA1011WH235','X20SDXSHA1011WH240','X20SDXSHA1011WH260','X20SDXSHA1011WH265','X20SDXSHA1011WH270']\n",
    "frame = bucket_dwalker_v2[(bucket_dwalker_v2['scskey']=='X20SDXSHA1011WH240')][['shopkey','weekkey','week_takeout_qty','takeout_qty','week_sale_qty','sale_qty','stock_qty']].groupby('weekkey').sum()\n",
    "bucket_dwalker_v2_shop_key = bucket_dwalker_v2['shopkey'].unique()\n",
    "\n",
    "\n",
    "shop_weeks_buket_v2 = zero_fill(bucket_dwalker_v2_shop_key, frame,scskey_list,bucket_dwalker_v2)\n",
    "wh_shop_weeks_buket_v2_df = pd.concat(shop_weeks_buket_v2)"
   ]
  },
  {
   "cell_type": "code",
   "execution_count": 99,
   "metadata": {},
   "outputs": [
    {
     "name": "stderr",
     "output_type": "stream",
     "text": [
      "<ipython-input-82-b30433df00a6>:29: RuntimeWarning: divide by zero encountered in longlong_scalars\n",
      "  if a['sale_qty'] / total_sale_qty > 1:\n",
      "<ipython-input-82-b30433df00a6>:32: RuntimeWarning: divide by zero encountered in longlong_scalars\n",
      "  frame.iloc[i] = [a[0],a[1] ,a[2] ,a[3] ,a[4] ,a[5],a[6] , a['sale_qty'] / total_sale_qty]\n"
     ]
    }
   ],
   "source": [
    "# BE\n",
    "scskey_list = ['X20SDXSHA3011BE230','X20SDXSHA3011BE235','X20SDXSHA3011BE240','X20SDXSHA3011BE260','X20SDXSHA3011BE265','X20SDXSHA3011BE270']\n",
    "frame = bucket_dwalker_v2[(bucket_dwalker_v2['scskey']=='X20SDXSHA3011BE240')][['shopkey','weekkey','week_takeout_qty','takeout_qty','week_sale_qty','sale_qty','stock_qty']].groupby('weekkey').sum()\n",
    "bucket_dwalker_v2_shop_key = bucket_dwalker_v2['shopkey'].unique()\n",
    "\n",
    "\n",
    "shop_weeks_buket_v2 = zero_fill(bucket_dwalker_v2_shop_key, frame,scskey_list,bucket_dwalker_v2)\n",
    "be_shop_weeks_buket_v2_df = pd.concat(shop_weeks_buket_v2)"
   ]
  },
  {
   "cell_type": "code",
   "execution_count": 100,
   "metadata": {
    "scrolled": true
   },
   "outputs": [
    {
     "data": {
      "text/html": [
       "<div>\n",
       "<style scoped>\n",
       "    .dataframe tbody tr th:only-of-type {\n",
       "        vertical-align: middle;\n",
       "    }\n",
       "\n",
       "    .dataframe tbody tr th {\n",
       "        vertical-align: top;\n",
       "    }\n",
       "\n",
       "    .dataframe thead th {\n",
       "        text-align: right;\n",
       "    }\n",
       "</style>\n",
       "<table border=\"1\" class=\"dataframe\">\n",
       "  <thead>\n",
       "    <tr style=\"text-align: right;\">\n",
       "      <th></th>\n",
       "      <th>weekkey</th>\n",
       "      <th>week_takeout_qty</th>\n",
       "      <th>takeout_qty</th>\n",
       "      <th>week_sale_qty</th>\n",
       "      <th>sale_qty</th>\n",
       "      <th>stock_qty</th>\n",
       "      <th>shopkey</th>\n",
       "      <th>ratio</th>\n",
       "      <th>scskey</th>\n",
       "      <th>shop_nm</th>\n",
       "      <th>shop_nm_sfdc</th>\n",
       "      <th>repr_shopcode</th>\n",
       "      <th>type_shop_nm</th>\n",
       "      <th>type_contract_nm</th>\n",
       "      <th>type_zone_nm</th>\n",
       "      <th>region_nm</th>\n",
       "    </tr>\n",
       "  </thead>\n",
       "  <tbody>\n",
       "    <tr>\n",
       "      <th>0</th>\n",
       "      <td>2019-11-18</td>\n",
       "      <td>1</td>\n",
       "      <td>1</td>\n",
       "      <td>0</td>\n",
       "      <td>0</td>\n",
       "      <td>1</td>\n",
       "      <td>X10052</td>\n",
       "      <td>0.00000</td>\n",
       "      <td>X20SDXSHA3011BE230</td>\n",
       "      <td>롯데강남</td>\n",
       "      <td>디스커버리 롯데 강남점</td>\n",
       "      <td>XH0254</td>\n",
       "      <td>일반매장</td>\n",
       "      <td>백화점특정</td>\n",
       "      <td>백화점</td>\n",
       "      <td>서울</td>\n",
       "    </tr>\n",
       "    <tr>\n",
       "      <th>1</th>\n",
       "      <td>2019-11-25</td>\n",
       "      <td>0</td>\n",
       "      <td>1</td>\n",
       "      <td>0</td>\n",
       "      <td>0</td>\n",
       "      <td>1</td>\n",
       "      <td>X10052</td>\n",
       "      <td>0.00000</td>\n",
       "      <td>X20SDXSHA3011BE230</td>\n",
       "      <td>롯데강남</td>\n",
       "      <td>디스커버리 롯데 강남점</td>\n",
       "      <td>XH0254</td>\n",
       "      <td>일반매장</td>\n",
       "      <td>백화점특정</td>\n",
       "      <td>백화점</td>\n",
       "      <td>서울</td>\n",
       "    </tr>\n",
       "    <tr>\n",
       "      <th>2</th>\n",
       "      <td>2019-12-02</td>\n",
       "      <td>0</td>\n",
       "      <td>1</td>\n",
       "      <td>0</td>\n",
       "      <td>0</td>\n",
       "      <td>1</td>\n",
       "      <td>X10052</td>\n",
       "      <td>0.00000</td>\n",
       "      <td>X20SDXSHA3011BE230</td>\n",
       "      <td>롯데강남</td>\n",
       "      <td>디스커버리 롯데 강남점</td>\n",
       "      <td>XH0254</td>\n",
       "      <td>일반매장</td>\n",
       "      <td>백화점특정</td>\n",
       "      <td>백화점</td>\n",
       "      <td>서울</td>\n",
       "    </tr>\n",
       "    <tr>\n",
       "      <th>3</th>\n",
       "      <td>2019-12-09</td>\n",
       "      <td>0</td>\n",
       "      <td>1</td>\n",
       "      <td>0</td>\n",
       "      <td>0</td>\n",
       "      <td>1</td>\n",
       "      <td>X10052</td>\n",
       "      <td>0.00000</td>\n",
       "      <td>X20SDXSHA3011BE230</td>\n",
       "      <td>롯데강남</td>\n",
       "      <td>디스커버리 롯데 강남점</td>\n",
       "      <td>XH0254</td>\n",
       "      <td>일반매장</td>\n",
       "      <td>백화점특정</td>\n",
       "      <td>백화점</td>\n",
       "      <td>서울</td>\n",
       "    </tr>\n",
       "    <tr>\n",
       "      <th>4</th>\n",
       "      <td>2019-12-16</td>\n",
       "      <td>4</td>\n",
       "      <td>5</td>\n",
       "      <td>2</td>\n",
       "      <td>2</td>\n",
       "      <td>3</td>\n",
       "      <td>X10052</td>\n",
       "      <td>0.20000</td>\n",
       "      <td>X20SDXSHA3011BE230</td>\n",
       "      <td>롯데강남</td>\n",
       "      <td>디스커버리 롯데 강남점</td>\n",
       "      <td>XH0254</td>\n",
       "      <td>일반매장</td>\n",
       "      <td>백화점특정</td>\n",
       "      <td>백화점</td>\n",
       "      <td>서울</td>\n",
       "    </tr>\n",
       "    <tr>\n",
       "      <th>...</th>\n",
       "      <td>...</td>\n",
       "      <td>...</td>\n",
       "      <td>...</td>\n",
       "      <td>...</td>\n",
       "      <td>...</td>\n",
       "      <td>...</td>\n",
       "      <td>...</td>\n",
       "      <td>...</td>\n",
       "      <td>...</td>\n",
       "      <td>...</td>\n",
       "      <td>...</td>\n",
       "      <td>...</td>\n",
       "      <td>...</td>\n",
       "      <td>...</td>\n",
       "      <td>...</td>\n",
       "      <td>...</td>\n",
       "    </tr>\n",
       "    <tr>\n",
       "      <th>54</th>\n",
       "      <td>2020-11-30</td>\n",
       "      <td>0</td>\n",
       "      <td>11</td>\n",
       "      <td>0</td>\n",
       "      <td>8</td>\n",
       "      <td>3</td>\n",
       "      <td>X50096</td>\n",
       "      <td>0.88889</td>\n",
       "      <td>X20SDXSHA3011BE270</td>\n",
       "      <td>LF스퀘어양주(대-위)</td>\n",
       "      <td>디스커버리 LF스퀘어 양주점</td>\n",
       "      <td>XH0084</td>\n",
       "      <td>일반매장</td>\n",
       "      <td>대리점</td>\n",
       "      <td>대리점</td>\n",
       "      <td>경기</td>\n",
       "    </tr>\n",
       "    <tr>\n",
       "      <th>55</th>\n",
       "      <td>2020-12-07</td>\n",
       "      <td>0</td>\n",
       "      <td>11</td>\n",
       "      <td>0</td>\n",
       "      <td>8</td>\n",
       "      <td>3</td>\n",
       "      <td>X50096</td>\n",
       "      <td>0.88889</td>\n",
       "      <td>X20SDXSHA3011BE270</td>\n",
       "      <td>LF스퀘어양주(대-위)</td>\n",
       "      <td>디스커버리 LF스퀘어 양주점</td>\n",
       "      <td>XH0084</td>\n",
       "      <td>일반매장</td>\n",
       "      <td>대리점</td>\n",
       "      <td>대리점</td>\n",
       "      <td>경기</td>\n",
       "    </tr>\n",
       "    <tr>\n",
       "      <th>56</th>\n",
       "      <td>2020-12-14</td>\n",
       "      <td>0</td>\n",
       "      <td>11</td>\n",
       "      <td>1</td>\n",
       "      <td>9</td>\n",
       "      <td>2</td>\n",
       "      <td>X50096</td>\n",
       "      <td>1.00000</td>\n",
       "      <td>X20SDXSHA3011BE270</td>\n",
       "      <td>LF스퀘어양주(대-위)</td>\n",
       "      <td>디스커버리 LF스퀘어 양주점</td>\n",
       "      <td>XH0084</td>\n",
       "      <td>일반매장</td>\n",
       "      <td>대리점</td>\n",
       "      <td>대리점</td>\n",
       "      <td>경기</td>\n",
       "    </tr>\n",
       "    <tr>\n",
       "      <th>57</th>\n",
       "      <td>2020-12-21</td>\n",
       "      <td>0</td>\n",
       "      <td>11</td>\n",
       "      <td>0</td>\n",
       "      <td>9</td>\n",
       "      <td>2</td>\n",
       "      <td>X50096</td>\n",
       "      <td>1.00000</td>\n",
       "      <td>X20SDXSHA3011BE270</td>\n",
       "      <td>LF스퀘어양주(대-위)</td>\n",
       "      <td>디스커버리 LF스퀘어 양주점</td>\n",
       "      <td>XH0084</td>\n",
       "      <td>일반매장</td>\n",
       "      <td>대리점</td>\n",
       "      <td>대리점</td>\n",
       "      <td>경기</td>\n",
       "    </tr>\n",
       "    <tr>\n",
       "      <th>58</th>\n",
       "      <td>2020-12-28</td>\n",
       "      <td>0</td>\n",
       "      <td>11</td>\n",
       "      <td>0</td>\n",
       "      <td>9</td>\n",
       "      <td>2</td>\n",
       "      <td>X50096</td>\n",
       "      <td>1.00000</td>\n",
       "      <td>X20SDXSHA3011BE270</td>\n",
       "      <td>LF스퀘어양주(대-위)</td>\n",
       "      <td>디스커버리 LF스퀘어 양주점</td>\n",
       "      <td>XH0084</td>\n",
       "      <td>일반매장</td>\n",
       "      <td>대리점</td>\n",
       "      <td>대리점</td>\n",
       "      <td>경기</td>\n",
       "    </tr>\n",
       "  </tbody>\n",
       "</table>\n",
       "<p>50622 rows × 16 columns</p>\n",
       "</div>"
      ],
      "text/plain": [
       "      weekkey  week_takeout_qty  takeout_qty  week_sale_qty  sale_qty  \\\n",
       "0  2019-11-18                 1            1              0         0   \n",
       "1  2019-11-25                 0            1              0         0   \n",
       "2  2019-12-02                 0            1              0         0   \n",
       "3  2019-12-09                 0            1              0         0   \n",
       "4  2019-12-16                 4            5              2         2   \n",
       "..        ...               ...          ...            ...       ...   \n",
       "54 2020-11-30                 0           11              0         8   \n",
       "55 2020-12-07                 0           11              0         8   \n",
       "56 2020-12-14                 0           11              1         9   \n",
       "57 2020-12-21                 0           11              0         9   \n",
       "58 2020-12-28                 0           11              0         9   \n",
       "\n",
       "    stock_qty shopkey   ratio              scskey       shop_nm  \\\n",
       "0           1  X10052 0.00000  X20SDXSHA3011BE230          롯데강남   \n",
       "1           1  X10052 0.00000  X20SDXSHA3011BE230          롯데강남   \n",
       "2           1  X10052 0.00000  X20SDXSHA3011BE230          롯데강남   \n",
       "3           1  X10052 0.00000  X20SDXSHA3011BE230          롯데강남   \n",
       "4           3  X10052 0.20000  X20SDXSHA3011BE230          롯데강남   \n",
       "..        ...     ...     ...                 ...           ...   \n",
       "54          3  X50096 0.88889  X20SDXSHA3011BE270  LF스퀘어양주(대-위)   \n",
       "55          3  X50096 0.88889  X20SDXSHA3011BE270  LF스퀘어양주(대-위)   \n",
       "56          2  X50096 1.00000  X20SDXSHA3011BE270  LF스퀘어양주(대-위)   \n",
       "57          2  X50096 1.00000  X20SDXSHA3011BE270  LF스퀘어양주(대-위)   \n",
       "58          2  X50096 1.00000  X20SDXSHA3011BE270  LF스퀘어양주(대-위)   \n",
       "\n",
       "       shop_nm_sfdc repr_shopcode type_shop_nm type_contract_nm type_zone_nm  \\\n",
       "0      디스커버리 롯데 강남점        XH0254         일반매장            백화점특정          백화점   \n",
       "1      디스커버리 롯데 강남점        XH0254         일반매장            백화점특정          백화점   \n",
       "2      디스커버리 롯데 강남점        XH0254         일반매장            백화점특정          백화점   \n",
       "3      디스커버리 롯데 강남점        XH0254         일반매장            백화점특정          백화점   \n",
       "4      디스커버리 롯데 강남점        XH0254         일반매장            백화점특정          백화점   \n",
       "..              ...           ...          ...              ...          ...   \n",
       "54  디스커버리 LF스퀘어 양주점        XH0084         일반매장              대리점          대리점   \n",
       "55  디스커버리 LF스퀘어 양주점        XH0084         일반매장              대리점          대리점   \n",
       "56  디스커버리 LF스퀘어 양주점        XH0084         일반매장              대리점          대리점   \n",
       "57  디스커버리 LF스퀘어 양주점        XH0084         일반매장              대리점          대리점   \n",
       "58  디스커버리 LF스퀘어 양주점        XH0084         일반매장              대리점          대리점   \n",
       "\n",
       "   region_nm  \n",
       "0         서울  \n",
       "1         서울  \n",
       "2         서울  \n",
       "3         서울  \n",
       "4         서울  \n",
       "..       ...  \n",
       "54        경기  \n",
       "55        경기  \n",
       "56        경기  \n",
       "57        경기  \n",
       "58        경기  \n",
       "\n",
       "[50622 rows x 16 columns]"
      ]
     },
     "execution_count": 100,
     "metadata": {},
     "output_type": "execute_result"
    }
   ],
   "source": [
    "be_shop_weeks_buket_v2_df"
   ]
  },
  {
   "cell_type": "code",
   "execution_count": 117,
   "metadata": {},
   "outputs": [],
   "source": [
    "# buket\n",
    "be_shop_weeks_buket_df.to_csv('be_shop_weeks_buket_df.csv')\n",
    "wh_shop_weeks_buket_df.to_csv('wh_shop_weeks_buket_df.csv')\n",
    "bk_shop_weeks_buket_df.to_csv('bk_shop_weeks_buket_df.csv')\n",
    "gr_shop_weeks_buket_df.to_csv('gr_shop_weeks_buket_df.csv')\n",
    "\n",
    "# v2\n",
    "ow_shop_weeks_buket_v2_df.to_csv('ow_shop_weeks_buket_v2_df.csv')\n",
    "wh_shop_weeks_buket_v2_df.to_csv('wh_shop_weeks_buket_v2_df.csv')\n",
    "be_shop_weeks_buket_v2_df.to_csv('be_shop_weeks_buket_v2_df.csv')"
   ]
  },
  {
   "cell_type": "markdown",
   "metadata": {},
   "source": [
    "# 실재고에 따른 개수 비교"
   ]
  },
  {
   "cell_type": "markdown",
   "metadata": {},
   "source": [
    "## 버킷디워커"
   ]
  },
  {
   "cell_type": "code",
   "execution_count": 196,
   "metadata": {
    "collapsed": true
   },
   "outputs": [
    {
     "name": "stderr",
     "output_type": "stream",
     "text": [
      "<ipython-input-102-f935b6beff54>:16: SettingWithCopyWarning: \n",
      "A value is trying to be set on a copy of a slice from a DataFrame.\n",
      "Try using .loc[row_indexer,col_indexer] = value instead\n",
      "\n",
      "See the caveats in the documentation: https://pandas.pydata.org/pandas-docs/stable/user_guide/indexing.html#returning-a-view-versus-a-copy\n",
      "  uniqe_shop_scskey['amount_2ewm_week'] = ewm_value[:-1]\n",
      "<ipython-input-102-f935b6beff54>:21: SettingWithCopyWarning: \n",
      "A value is trying to be set on a copy of a slice from a DataFrame.\n",
      "Try using .loc[row_indexer,col_indexer] = value instead\n",
      "\n",
      "See the caveats in the documentation: https://pandas.pydata.org/pandas-docs/stable/user_guide/indexing.html#returning-a-view-versus-a-copy\n",
      "  uniqe_shop_scskey['qty'] = ewm_value[:-1]\n",
      "<ipython-input-102-f935b6beff54>:16: SettingWithCopyWarning: \n",
      "A value is trying to be set on a copy of a slice from a DataFrame.\n",
      "Try using .loc[row_indexer,col_indexer] = value instead\n",
      "\n",
      "See the caveats in the documentation: https://pandas.pydata.org/pandas-docs/stable/user_guide/indexing.html#returning-a-view-versus-a-copy\n",
      "  uniqe_shop_scskey['amount_2ewm_week'] = ewm_value[:-1]\n",
      "<ipython-input-102-f935b6beff54>:21: SettingWithCopyWarning: \n",
      "A value is trying to be set on a copy of a slice from a DataFrame.\n",
      "Try using .loc[row_indexer,col_indexer] = value instead\n",
      "\n",
      "See the caveats in the documentation: https://pandas.pydata.org/pandas-docs/stable/user_guide/indexing.html#returning-a-view-versus-a-copy\n",
      "  uniqe_shop_scskey['qty'] = ewm_value[:-1]\n",
      "<ipython-input-102-f935b6beff54>:16: SettingWithCopyWarning: \n",
      "A value is trying to be set on a copy of a slice from a DataFrame.\n",
      "Try using .loc[row_indexer,col_indexer] = value instead\n",
      "\n",
      "See the caveats in the documentation: https://pandas.pydata.org/pandas-docs/stable/user_guide/indexing.html#returning-a-view-versus-a-copy\n",
      "  uniqe_shop_scskey['amount_2ewm_week'] = ewm_value[:-1]\n",
      "<ipython-input-102-f935b6beff54>:21: SettingWithCopyWarning: \n",
      "A value is trying to be set on a copy of a slice from a DataFrame.\n",
      "Try using .loc[row_indexer,col_indexer] = value instead\n",
      "\n",
      "See the caveats in the documentation: https://pandas.pydata.org/pandas-docs/stable/user_guide/indexing.html#returning-a-view-versus-a-copy\n",
      "  uniqe_shop_scskey['qty'] = ewm_value[:-1]\n",
      "<ipython-input-102-f935b6beff54>:16: SettingWithCopyWarning: \n",
      "A value is trying to be set on a copy of a slice from a DataFrame.\n",
      "Try using .loc[row_indexer,col_indexer] = value instead\n",
      "\n",
      "See the caveats in the documentation: https://pandas.pydata.org/pandas-docs/stable/user_guide/indexing.html#returning-a-view-versus-a-copy\n",
      "  uniqe_shop_scskey['amount_2ewm_week'] = ewm_value[:-1]\n",
      "<ipython-input-102-f935b6beff54>:21: SettingWithCopyWarning: \n",
      "A value is trying to be set on a copy of a slice from a DataFrame.\n",
      "Try using .loc[row_indexer,col_indexer] = value instead\n",
      "\n",
      "See the caveats in the documentation: https://pandas.pydata.org/pandas-docs/stable/user_guide/indexing.html#returning-a-view-versus-a-copy\n",
      "  uniqe_shop_scskey['qty'] = ewm_value[:-1]\n"
     ]
    }
   ],
   "source": [
    "be_shop_weeks_buket_df_zero = shop_weeks_buket_function(be_shop_weeks_buket_df)\n",
    "wh_shop_weeks_buket_df_zero = shop_weeks_buket_function(wh_shop_weeks_buket_df)\n",
    "bk_shop_weeks_buket_df_zero = shop_weeks_buket_function(bk_shop_weeks_buket_df)\n",
    "gr_shop_weeks_buket_df_zero = shop_weeks_buket_function(gr_shop_weeks_buket_df)"
   ]
  },
  {
   "cell_type": "code",
   "execution_count": 198,
   "metadata": {
    "scrolled": true
   },
   "outputs": [
    {
     "name": "stdout",
     "output_type": "stream",
     "text": [
      "2225\n",
      "9937\n",
      "4925\n",
      "903\n"
     ]
    }
   ],
   "source": [
    "# 현재 재고가 0 인 지점 개수 \n",
    "print(len(be_shop_weeks_buket_df_zero))\n",
    "print(len(wh_shop_weeks_buket_df_zero))\n",
    "print(len(bk_shop_weeks_buket_df_zero))\n",
    "print(len(gr_shop_weeks_buket_df_zero))"
   ]
  },
  {
   "cell_type": "code",
   "execution_count": 218,
   "metadata": {},
   "outputs": [],
   "source": [
    "bk_be_zero_count = bk_stock_zero_function(be_shop_weeks_buket_df_zero)\n",
    "bk_wh_zero_count = bk_stock_zero_function(wh_shop_weeks_buket_df_zero)\n",
    "bk_bk_zero_count = bk_stock_zero_function(bk_shop_weeks_buket_df_zero)\n",
    "bk_gr_zero_count = bk_stock_zero_function(gr_shop_weeks_buket_df_zero)"
   ]
  },
  {
   "cell_type": "code",
   "execution_count": 200,
   "metadata": {},
   "outputs": [
    {
     "name": "stdout",
     "output_type": "stream",
     "text": [
      "916\n",
      "9578\n",
      "3878\n",
      "638\n"
     ]
    }
   ],
   "source": [
    "# 로직을 사용했을 때 실재고 반영한 재고가 0 개인 지점 개수 \n",
    "print(bk_be_zero_count)\n",
    "print(bk_wh_zero_count)\n",
    "print(bk_bk_zero_count)\n",
    "print(bk_gr_zero_count)"
   ]
  },
  {
   "cell_type": "markdown",
   "metadata": {},
   "source": [
    "## v2 버킷 디워커 "
   ]
  },
  {
   "cell_type": "code",
   "execution_count": 216,
   "metadata": {
    "scrolled": true
   },
   "outputs": [
    {
     "name": "stderr",
     "output_type": "stream",
     "text": [
      "<ipython-input-212-4d93c3b2c745>:16: SettingWithCopyWarning: \n",
      "A value is trying to be set on a copy of a slice from a DataFrame.\n",
      "Try using .loc[row_indexer,col_indexer] = value instead\n",
      "\n",
      "See the caveats in the documentation: https://pandas.pydata.org/pandas-docs/stable/user_guide/indexing.html#returning-a-view-versus-a-copy\n",
      "  uniqe_shop_scskey['amount_2ewm_week'] = ewm_value[:-1]\n",
      "<ipython-input-212-4d93c3b2c745>:21: SettingWithCopyWarning: \n",
      "A value is trying to be set on a copy of a slice from a DataFrame.\n",
      "Try using .loc[row_indexer,col_indexer] = value instead\n",
      "\n",
      "See the caveats in the documentation: https://pandas.pydata.org/pandas-docs/stable/user_guide/indexing.html#returning-a-view-versus-a-copy\n",
      "  uniqe_shop_scskey['qty'] = ewm_value[:-1]\n",
      "<ipython-input-212-4d93c3b2c745>:16: SettingWithCopyWarning: \n",
      "A value is trying to be set on a copy of a slice from a DataFrame.\n",
      "Try using .loc[row_indexer,col_indexer] = value instead\n",
      "\n",
      "See the caveats in the documentation: https://pandas.pydata.org/pandas-docs/stable/user_guide/indexing.html#returning-a-view-versus-a-copy\n",
      "  uniqe_shop_scskey['amount_2ewm_week'] = ewm_value[:-1]\n",
      "<ipython-input-212-4d93c3b2c745>:21: SettingWithCopyWarning: \n",
      "A value is trying to be set on a copy of a slice from a DataFrame.\n",
      "Try using .loc[row_indexer,col_indexer] = value instead\n",
      "\n",
      "See the caveats in the documentation: https://pandas.pydata.org/pandas-docs/stable/user_guide/indexing.html#returning-a-view-versus-a-copy\n",
      "  uniqe_shop_scskey['qty'] = ewm_value[:-1]\n",
      "<ipython-input-212-4d93c3b2c745>:16: SettingWithCopyWarning: \n",
      "A value is trying to be set on a copy of a slice from a DataFrame.\n",
      "Try using .loc[row_indexer,col_indexer] = value instead\n",
      "\n",
      "See the caveats in the documentation: https://pandas.pydata.org/pandas-docs/stable/user_guide/indexing.html#returning-a-view-versus-a-copy\n",
      "  uniqe_shop_scskey['amount_2ewm_week'] = ewm_value[:-1]\n",
      "<ipython-input-212-4d93c3b2c745>:21: SettingWithCopyWarning: \n",
      "A value is trying to be set on a copy of a slice from a DataFrame.\n",
      "Try using .loc[row_indexer,col_indexer] = value instead\n",
      "\n",
      "See the caveats in the documentation: https://pandas.pydata.org/pandas-docs/stable/user_guide/indexing.html#returning-a-view-versus-a-copy\n",
      "  uniqe_shop_scskey['qty'] = ewm_value[:-1]\n"
     ]
    }
   ],
   "source": [
    "be_shop_weeks_v2_df_zero = shop_weeks_buket_v2_function(ow_shop_weeks_buket_v2_df)\n",
    "wh_shop_weeks_v2_df_zero = shop_weeks_buket_v2_function(wh_shop_weeks_buket_v2_df)\n",
    "ow_shop_weeks_v2_df_zero = shop_weeks_buket_v2_function(be_shop_weeks_buket_v2_df)\n"
   ]
  },
  {
   "cell_type": "code",
   "execution_count": 217,
   "metadata": {
    "scrolled": true
   },
   "outputs": [
    {
     "name": "stdout",
     "output_type": "stream",
     "text": [
      "240\n",
      "244\n",
      "325\n"
     ]
    }
   ],
   "source": [
    "# 현재 재고가 0 인 지점 개수 \n",
    "print(len(be_shop_weeks_v2_df_zero))\n",
    "print(len(wh_shop_weeks_v2_df_zero))\n",
    "print(len(ow_shop_weeks_v2_df_zero))"
   ]
  },
  {
   "cell_type": "code",
   "execution_count": 219,
   "metadata": {},
   "outputs": [],
   "source": [
    "v2_be_zero_count = v2_stock_zero_function(be_shop_weeks_v2_df_zero)\n",
    "v2_wh_zero_count = v2_stock_zero_function(wh_shop_weeks_v2_df_zero)\n",
    "v2_bk_zero_count = v2_stock_zero_function(ow_shop_weeks_v2_df_zero)"
   ]
  },
  {
   "cell_type": "code",
   "execution_count": 221,
   "metadata": {},
   "outputs": [
    {
     "name": "stdout",
     "output_type": "stream",
     "text": [
      "190\n",
      "202\n",
      "272\n"
     ]
    }
   ],
   "source": [
    "# 로직을 사용했을 때 실재고 반영한 재고가 0 개인 지점 개수 \n",
    "print(v2_be_zero_count)\n",
    "print(v2_wh_zero_count)\n",
    "print(v2_bk_zero_count)\n"
   ]
  },
  {
   "cell_type": "code",
   "execution_count": null,
   "metadata": {},
   "outputs": [],
   "source": []
  }
 ],
 "metadata": {
  "kernelspec": {
   "display_name": "Python 3",
   "language": "python",
   "name": "python3"
  },
  "language_info": {
   "codemirror_mode": {
    "name": "ipython",
    "version": 3
   },
   "file_extension": ".py",
   "mimetype": "text/x-python",
   "name": "python",
   "nbconvert_exporter": "python",
   "pygments_lexer": "ipython3",
   "version": "3.8.5"
  }
 },
 "nbformat": 4,
 "nbformat_minor": 4
}
