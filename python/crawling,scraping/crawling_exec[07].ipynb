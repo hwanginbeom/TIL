{
 "cells": [
  {
   "cell_type": "code",
   "execution_count": 54,
   "metadata": {},
   "outputs": [],
   "source": [
    "from selenium import webdriver\n",
    "import time\n",
    "path = './chromedriver.exe'\n",
    "driver = webdriver.Chrome(path)\n"
   ]
  },
  {
   "cell_type": "markdown",
   "metadata": {},
   "source": [
    "- id:contents\n",
    "- class : prList\n",
    "- tag :a"
   ]
  },
  {
   "cell_type": "code",
   "execution_count": 57,
   "metadata": {},
   "outputs": [],
   "source": [
    "details_list = []\n",
    "for page in range(1,9):\n",
    "    url = 'https://www.ildong.com/kor/product/list.id?page='+str(page)+'&halt=&prdDisease=&prdCategory=5&searchVal=&searchOption=0'\n",
    "    driver.get(url)\n",
    "    prList = driver.find_element_by_class_name('prList')\n",
    "    a_tag = prList.find_elements_by_tag_name('a') # 해당 페이지로 이동하기 위한 a tag를 찾는다.\n",
    "    for idx in range(0,9):\n",
    "        a_tag[idx].click() # 이 a_tag를 index 순서대로 클릭하고\n",
    "        detail = driver.find_element_by_class_name('detailCnt2') # 내가 필요로 하는 값을 가져온다.\n",
    "        details_list.append(detail.text) # 그 다음 미리 만들어 놓은 리스트에 append로 추가해준다.\n",
    "        driver.back() # 기존껄 클리어(초기화)한다.\n",
    "        prList = driver.find_element_by_class_name('prList') # 그다음 위와 같이 다시 값을 가져오는 작업을 한다.\n",
    "        a_tag = prList.find_elements_by_tag_name('a')\n",
    "        time.sleep(2) # 2초 간격으로 진행한다.\n",
    "\n"
   ]
  },
  {
   "cell_type": "code",
   "execution_count": 58,
   "metadata": {},
   "outputs": [
    {
     "data": {
      "text/plain": [
       "72"
      ]
     },
     "execution_count": 58,
     "metadata": {},
     "output_type": "execute_result"
    }
   ],
   "source": [
    "len(details_list)"
   ]
  },
  {
   "cell_type": "code",
   "execution_count": 59,
   "metadata": {},
   "outputs": [
    {
     "data": {
      "text/plain": [
       "'제품특징\\n\\n보스웰리아 추출물 + 칼슘\\n※본 제품은 질병의 예방 및 치료를 위한 의약품이 아니며 인체에 유용한 기능성을 가진 원료나 성분을 사용하여 제조·가공한 건강기능식품입니다.\\n\\n\\n성분/함량\\n\\n<기능성원료 및 함량>\\n1일 섭취량(4정) 당\\n칼슘 : 390.77 mg\\nAKBA와 KBA의 합 : 71 mg\\n  ※우유, 게 함유\\n\\n\\n기능정보\\n\\n<기능정보>\\n[칼슘]1. 뼈와 치아 형성에 필요, 2. 신경과 근육 기능 유지에 필요, 3. 정상적인 혈액응고에 필요, 4. 골다공증발생 위험 감소에 도움을 줌\\n[보스웰리아 추출물]관절 및 연골 건강에 도움을 줄 수 있음\\n\\n\\n섭취방법\\n\\n<섭취량 및 섭취방법>\\n1일 2회, 1회 2정을 물과 함께 섭취하십시오.\\n\\n\\n포장단위\\n\\n1,000 mg X 120정 X 2개입(240 g)'"
      ]
     },
     "execution_count": 59,
     "metadata": {},
     "output_type": "execute_result"
    }
   ],
   "source": [
    "details_list[0]"
   ]
  },
  {
   "cell_type": "code",
   "execution_count": 49,
   "metadata": {},
   "outputs": [
    {
     "name": "stdout",
     "output_type": "stream",
     "text": [
      "[<selenium.webdriver.remote.webelement.WebElement (session=\"f90f4f1146dbd8cbfb41c7ca777e7076\", element=\"47b51eda-d33c-4a5b-bfa0-36ea5339d0b1\")>]\n",
      "1\n"
     ]
    }
   ],
   "source": [
    "for page in range(1,10):\n",
    "    url = 'https://www.ildong.com/kor/product/list.id?page='+str(page)+'&halt=&prdDisease=&prdCategory=5&searchVal=&searchOption=0'\n",
    "    driver.get(url)\n",
    "    elements=driver.find_elements_by_css_selector('div.prList > ul > li')\n",
    "    for element in elements:\n",
    "        a_tag = element.find_elements_by_tag_name('a')\n",
    "        print(a_tag)\n",
    "        print(len(a_tag))\n",
    "        break\n",
    "\n",
    "    break"
   ]
  },
  {
   "cell_type": "code",
   "execution_count": 43,
   "metadata": {},
   "outputs": [
    {
     "name": "stdout",
     "output_type": "stream",
     "text": [
      "[]\n"
     ]
    },
    {
     "ename": "IndexError",
     "evalue": "list index out of range",
     "output_type": "error",
     "traceback": [
      "\u001b[1;31m---------------------------------------------------------------------------\u001b[0m",
      "\u001b[1;31mIndexError\u001b[0m                                Traceback (most recent call last)",
      "\u001b[1;32m<ipython-input-43-aab441582695>\u001b[0m in \u001b[0;36m<module>\u001b[1;34m()\u001b[0m\n\u001b[0;32m      8\u001b[0m         \u001b[0melement\u001b[0m\u001b[1;33m=\u001b[0m\u001b[0mdriver\u001b[0m\u001b[1;33m.\u001b[0m\u001b[0mfind_elements_by_css_selector\u001b[0m\u001b[1;33m(\u001b[0m\u001b[1;34m'div.introbox > div.dataTable type3 > table > tbody> tr'\u001b[0m\u001b[1;33m)\u001b[0m\u001b[1;33m\u001b[0m\u001b[0m\n\u001b[0;32m      9\u001b[0m         \u001b[0mprint\u001b[0m\u001b[1;33m(\u001b[0m\u001b[0melement\u001b[0m\u001b[1;33m)\u001b[0m\u001b[1;33m\u001b[0m\u001b[0m\n\u001b[1;32m---> 10\u001b[1;33m         \u001b[0melement\u001b[0m\u001b[1;33m[\u001b[0m\u001b[1;36m0\u001b[0m\u001b[1;33m]\u001b[0m\u001b[1;33m.\u001b[0m\u001b[0mtext\u001b[0m\u001b[1;33m\u001b[0m\u001b[0m\n\u001b[0m\u001b[0;32m     11\u001b[0m         \u001b[0melement\u001b[0m\u001b[1;33m[\u001b[0m\u001b[1;36m1\u001b[0m\u001b[1;33m]\u001b[0m\u001b[1;33m.\u001b[0m\u001b[0mtext\u001b[0m\u001b[1;33m\u001b[0m\u001b[0m\n\u001b[0;32m     12\u001b[0m         \u001b[1;32mbreak\u001b[0m\u001b[1;33m\u001b[0m\u001b[0m\n",
      "\u001b[1;31mIndexError\u001b[0m: list index out of range"
     ]
    }
   ],
   "source": [
    "for page in range(1,10):\n",
    "    url = 'https://www.ildong.com/kor/product/list.id?page='+str(page)+'&halt=&prdDisease=&prdCategory=5&searchVal=&searchOption=0'\n",
    "    driver.get(url)\n",
    "    elements=driver.find_elements_by_css_selector('div.prList > ul > li')\n",
    "    for element in elements:\n",
    "        url2=element.find_element_by_tag_name('a').get_attribute('href')\n",
    "        driver.get(url2)\n",
    "        element=driver.find_elements_by_css_selector('div.introbox > div.dataTable type3 > table > tbody> tr')\n",
    "        print(element)\n",
    "        element[0].text\n",
    "        element[1].text\n",
    "        break\n",
    "\n",
    "    break"
   ]
  },
  {
   "cell_type": "code",
   "execution_count": 37,
   "metadata": {},
   "outputs": [],
   "source": [
    "elements=driver.find_elements_by_css_selector('div.prList > ul > li')\n"
   ]
  },
  {
   "cell_type": "code",
   "execution_count": 38,
   "metadata": {},
   "outputs": [
    {
     "name": "stdout",
     "output_type": "stream",
     "text": [
      "건강기능\n",
      "식품\n",
      "https://admin.ildong.com/portlet-repositories/product/image/image_s/1458004442706.jpg\n",
      "관절엔 보스웰리아\n",
      "https://www.ildong.com/kor/product/view.id?prdSeq=1210\n",
      "건강기능\n",
      "식품\n",
      "https://admin.ildong.com/upload/2018-05-11/152602478997438807.jpg\n",
      "락토골드 플러스\n",
      "https://www.ildong.com/kor/product/view.id?prdSeq=2801\n",
      "건강기능\n",
      "식품\n",
      "https://admin.ildong.com/portlet-repositories/product/image/image_s/1463466377432.jpg\n",
      "락토피아\n",
      "https://www.ildong.com/kor/product/view.id?prdSeq=1212\n",
      "건강기능\n",
      "식품\n",
      "https://admin.ildong.com/upload/2018-06-08/152842321866790149.jpg\n",
      "락토피아 60캡슐\n",
      "https://www.ildong.com/kor/product/view.id?prdSeq=2861\n",
      "건강기능\n",
      "식품\n",
      "https://admin.ildong.com/upload/2019-09-04/156756755331563417.jpg\n",
      "마이니 간에다밀크씨슬\n",
      "https://www.ildong.com/kor/product/view.id?prdSeq=1263\n",
      "건강기능\n",
      "식품\n",
      "https://admin.ildong.com/upload/2019-09-04/156757258753514632.jpg\n",
      "마이니 굿모닝 유산균\n",
      "https://www.ildong.com/kor/product/view.id?prdSeq=2875\n",
      "건강기능\n",
      "식품\n",
      "https://admin.ildong.com/upload/2019-09-04/156756818958352846.jpg\n",
      "마이니 남성활력케어S\n",
      "https://www.ildong.com/kor/product/view.id?prdSeq=2862\n",
      "건강기능\n",
      "식품\n",
      "https://admin.ildong.com/upload/2019-10-23/15718122550787644.jpg\n",
      "마이니 레몬유래엽산\n",
      "https://www.ildong.com/kor/product/view.id?prdSeq=2725\n",
      "건강기능\n",
      "식품\n",
      "https://admin.ildong.com/upload/2019-09-04/156756793750190527.jpg\n",
      "마이니 루테인지아잔틴\n",
      "https://www.ildong.com/kor/product/view.id?prdSeq=3082\n"
     ]
    }
   ],
   "source": [
    "for element in elements:\n",
    "    why=element.find_element_by_tag_name('span.ico_type').text\n",
    "    print(why)\n",
    "    why2=element.find_element_by_tag_name('img').get_attribute('src')\n",
    "    print(why2)\n",
    "    why3=element.find_element_by_tag_name('dt.fMedum').text\n",
    "    print(why3)\n",
    "    why4=element.find_element_by_tag_name('a').get_attribute('href')\n",
    "    print(why4)"
   ]
  },
  {
   "cell_type": "code",
   "execution_count": 73,
   "metadata": {},
   "outputs": [],
   "source": [
    "from selenium import webdriver\n",
    "import time\n",
    "path = './chromedriver.exe'\n",
    "driver = webdriver.Chrome(path)"
   ]
  },
  {
   "cell_type": "code",
   "execution_count": 74,
   "metadata": {},
   "outputs": [],
   "source": [
    "driver.get('http://www.yes24.com/24/Category/NewProduct')"
   ]
  },
  {
   "cell_type": "code",
   "execution_count": 65,
   "metadata": {},
   "outputs": [],
   "source": [
    "books = driver.find_elements_by_css_selector('div.newGoodsListArea > ul.clearfix > li')"
   ]
  },
  {
   "cell_type": "code",
   "execution_count": 69,
   "metadata": {},
   "outputs": [
    {
     "name": "stdout",
     "output_type": "stream",
     "text": [
      "존리의 금융문맹 탈출\n",
      "터틀 트레이딩\n",
      "설민석의 한국사 대모험 15\n",
      "흔한남매 6\n",
      "폴리매스\n",
      "극락왕생 1\n",
      "코믹 인소의 법칙 2 한정판\n",
      "대재앙 시대 생존 전략\n",
      "2020 김승옥문학상 수상작품집\n",
      "노자가 옳았다\n"
     ]
    }
   ],
   "source": [
    "count = 0\n",
    "for i in books:\n",
    "    text=i.find_element_by_css_selector('div.goods_info > p.goods_name > a').text\n",
    "    print(text)\n",
    "    count+=1\n",
    "    if count ==10:\n",
    "        break"
   ]
  },
  {
   "cell_type": "code",
   "execution_count": 83,
   "metadata": {},
   "outputs": [
    {
     "ename": "NoSuchElementException",
     "evalue": "Message: no such element: Unable to locate element: {\"method\":\"css selector\",\"selector\":\"div.newGoodsListArea > topBooksUl_001 >li\"}\n  (Session info: chrome=85.0.4183.121)\n",
     "output_type": "error",
     "traceback": [
      "\u001b[1;31m---------------------------------------------------------------------------\u001b[0m",
      "\u001b[1;31mNoSuchElementException\u001b[0m                    Traceback (most recent call last)",
      "\u001b[1;32m<ipython-input-83-5530e32028bf>\u001b[0m in \u001b[0;36m<module>\u001b[1;34m()\u001b[0m\n\u001b[1;32m----> 1\u001b[1;33m \u001b[0mbooks\u001b[0m \u001b[1;33m=\u001b[0m \u001b[0mdriver\u001b[0m\u001b[1;33m.\u001b[0m\u001b[0mfind_element_by_css_selector\u001b[0m\u001b[1;33m(\u001b[0m\u001b[1;34m'div.newGoodsListArea > topBooksUl_001 >li'\u001b[0m\u001b[1;33m)\u001b[0m\u001b[1;33m\u001b[0m\u001b[0m\n\u001b[0m\u001b[0;32m      2\u001b[0m \u001b[1;31m# print(books)\u001b[0m\u001b[1;33m\u001b[0m\u001b[1;33m\u001b[0m\u001b[0m\n\u001b[0;32m      3\u001b[0m \u001b[0mbooks2\u001b[0m \u001b[1;33m=\u001b[0m \u001b[0mbooks\u001b[0m\u001b[1;33m.\u001b[0m\u001b[0mfind_elements_by_id\u001b[0m\u001b[1;33m(\u001b[0m\u001b[1;34m'topBooksUl_001>li'\u001b[0m\u001b[1;33m)\u001b[0m\u001b[1;33m\u001b[0m\u001b[0m\n\u001b[0;32m      4\u001b[0m \u001b[0mprint\u001b[0m\u001b[1;33m(\u001b[0m\u001b[0mbooks\u001b[0m\u001b[1;33m)\u001b[0m\u001b[1;33m\u001b[0m\u001b[0m\n",
      "\u001b[1;32m~\\Anaconda3\\lib\\site-packages\\selenium\\webdriver\\remote\\webdriver.py\u001b[0m in \u001b[0;36mfind_element_by_css_selector\u001b[1;34m(self, css_selector)\u001b[0m\n\u001b[0;32m    596\u001b[0m             \u001b[0melement\u001b[0m \u001b[1;33m=\u001b[0m \u001b[0mdriver\u001b[0m\u001b[1;33m.\u001b[0m\u001b[0mfind_element_by_css_selector\u001b[0m\u001b[1;33m(\u001b[0m\u001b[1;34m'#foo'\u001b[0m\u001b[1;33m)\u001b[0m\u001b[1;33m\u001b[0m\u001b[0m\n\u001b[0;32m    597\u001b[0m         \"\"\"\n\u001b[1;32m--> 598\u001b[1;33m         \u001b[1;32mreturn\u001b[0m \u001b[0mself\u001b[0m\u001b[1;33m.\u001b[0m\u001b[0mfind_element\u001b[0m\u001b[1;33m(\u001b[0m\u001b[0mby\u001b[0m\u001b[1;33m=\u001b[0m\u001b[0mBy\u001b[0m\u001b[1;33m.\u001b[0m\u001b[0mCSS_SELECTOR\u001b[0m\u001b[1;33m,\u001b[0m \u001b[0mvalue\u001b[0m\u001b[1;33m=\u001b[0m\u001b[0mcss_selector\u001b[0m\u001b[1;33m)\u001b[0m\u001b[1;33m\u001b[0m\u001b[0m\n\u001b[0m\u001b[0;32m    599\u001b[0m \u001b[1;33m\u001b[0m\u001b[0m\n\u001b[0;32m    600\u001b[0m     \u001b[1;32mdef\u001b[0m \u001b[0mfind_elements_by_css_selector\u001b[0m\u001b[1;33m(\u001b[0m\u001b[0mself\u001b[0m\u001b[1;33m,\u001b[0m \u001b[0mcss_selector\u001b[0m\u001b[1;33m)\u001b[0m\u001b[1;33m:\u001b[0m\u001b[1;33m\u001b[0m\u001b[0m\n",
      "\u001b[1;32m~\\Anaconda3\\lib\\site-packages\\selenium\\webdriver\\remote\\webdriver.py\u001b[0m in \u001b[0;36mfind_element\u001b[1;34m(self, by, value)\u001b[0m\n\u001b[0;32m    976\u001b[0m         return self.execute(Command.FIND_ELEMENT, {\n\u001b[0;32m    977\u001b[0m             \u001b[1;34m'using'\u001b[0m\u001b[1;33m:\u001b[0m \u001b[0mby\u001b[0m\u001b[1;33m,\u001b[0m\u001b[1;33m\u001b[0m\u001b[0m\n\u001b[1;32m--> 978\u001b[1;33m             'value': value})['value']\n\u001b[0m\u001b[0;32m    979\u001b[0m \u001b[1;33m\u001b[0m\u001b[0m\n\u001b[0;32m    980\u001b[0m     \u001b[1;32mdef\u001b[0m \u001b[0mfind_elements\u001b[0m\u001b[1;33m(\u001b[0m\u001b[0mself\u001b[0m\u001b[1;33m,\u001b[0m \u001b[0mby\u001b[0m\u001b[1;33m=\u001b[0m\u001b[0mBy\u001b[0m\u001b[1;33m.\u001b[0m\u001b[0mID\u001b[0m\u001b[1;33m,\u001b[0m \u001b[0mvalue\u001b[0m\u001b[1;33m=\u001b[0m\u001b[1;32mNone\u001b[0m\u001b[1;33m)\u001b[0m\u001b[1;33m:\u001b[0m\u001b[1;33m\u001b[0m\u001b[0m\n",
      "\u001b[1;32m~\\Anaconda3\\lib\\site-packages\\selenium\\webdriver\\remote\\webdriver.py\u001b[0m in \u001b[0;36mexecute\u001b[1;34m(self, driver_command, params)\u001b[0m\n\u001b[0;32m    319\u001b[0m         \u001b[0mresponse\u001b[0m \u001b[1;33m=\u001b[0m \u001b[0mself\u001b[0m\u001b[1;33m.\u001b[0m\u001b[0mcommand_executor\u001b[0m\u001b[1;33m.\u001b[0m\u001b[0mexecute\u001b[0m\u001b[1;33m(\u001b[0m\u001b[0mdriver_command\u001b[0m\u001b[1;33m,\u001b[0m \u001b[0mparams\u001b[0m\u001b[1;33m)\u001b[0m\u001b[1;33m\u001b[0m\u001b[0m\n\u001b[0;32m    320\u001b[0m         \u001b[1;32mif\u001b[0m \u001b[0mresponse\u001b[0m\u001b[1;33m:\u001b[0m\u001b[1;33m\u001b[0m\u001b[0m\n\u001b[1;32m--> 321\u001b[1;33m             \u001b[0mself\u001b[0m\u001b[1;33m.\u001b[0m\u001b[0merror_handler\u001b[0m\u001b[1;33m.\u001b[0m\u001b[0mcheck_response\u001b[0m\u001b[1;33m(\u001b[0m\u001b[0mresponse\u001b[0m\u001b[1;33m)\u001b[0m\u001b[1;33m\u001b[0m\u001b[0m\n\u001b[0m\u001b[0;32m    322\u001b[0m             response['value'] = self._unwrap_value(\n\u001b[0;32m    323\u001b[0m                 response.get('value', None))\n",
      "\u001b[1;32m~\\Anaconda3\\lib\\site-packages\\selenium\\webdriver\\remote\\errorhandler.py\u001b[0m in \u001b[0;36mcheck_response\u001b[1;34m(self, response)\u001b[0m\n\u001b[0;32m    240\u001b[0m                 \u001b[0malert_text\u001b[0m \u001b[1;33m=\u001b[0m \u001b[0mvalue\u001b[0m\u001b[1;33m[\u001b[0m\u001b[1;34m'alert'\u001b[0m\u001b[1;33m]\u001b[0m\u001b[1;33m.\u001b[0m\u001b[0mget\u001b[0m\u001b[1;33m(\u001b[0m\u001b[1;34m'text'\u001b[0m\u001b[1;33m)\u001b[0m\u001b[1;33m\u001b[0m\u001b[0m\n\u001b[0;32m    241\u001b[0m             \u001b[1;32mraise\u001b[0m \u001b[0mexception_class\u001b[0m\u001b[1;33m(\u001b[0m\u001b[0mmessage\u001b[0m\u001b[1;33m,\u001b[0m \u001b[0mscreen\u001b[0m\u001b[1;33m,\u001b[0m \u001b[0mstacktrace\u001b[0m\u001b[1;33m,\u001b[0m \u001b[0malert_text\u001b[0m\u001b[1;33m)\u001b[0m\u001b[1;33m\u001b[0m\u001b[0m\n\u001b[1;32m--> 242\u001b[1;33m         \u001b[1;32mraise\u001b[0m \u001b[0mexception_class\u001b[0m\u001b[1;33m(\u001b[0m\u001b[0mmessage\u001b[0m\u001b[1;33m,\u001b[0m \u001b[0mscreen\u001b[0m\u001b[1;33m,\u001b[0m \u001b[0mstacktrace\u001b[0m\u001b[1;33m)\u001b[0m\u001b[1;33m\u001b[0m\u001b[0m\n\u001b[0m\u001b[0;32m    243\u001b[0m \u001b[1;33m\u001b[0m\u001b[0m\n\u001b[0;32m    244\u001b[0m     \u001b[1;32mdef\u001b[0m \u001b[0m_value_or_default\u001b[0m\u001b[1;33m(\u001b[0m\u001b[0mself\u001b[0m\u001b[1;33m,\u001b[0m \u001b[0mobj\u001b[0m\u001b[1;33m,\u001b[0m \u001b[0mkey\u001b[0m\u001b[1;33m,\u001b[0m \u001b[0mdefault\u001b[0m\u001b[1;33m)\u001b[0m\u001b[1;33m:\u001b[0m\u001b[1;33m\u001b[0m\u001b[0m\n",
      "\u001b[1;31mNoSuchElementException\u001b[0m: Message: no such element: Unable to locate element: {\"method\":\"css selector\",\"selector\":\"div.newGoodsListArea > topBooksUl_001 >li\"}\n  (Session info: chrome=85.0.4183.121)\n"
     ]
    }
   ],
   "source": [
    "books = driver.find_element_by_css_selector('div.newGoodsListArea > topBooksUl_001 >li')\n",
    "# print(books)\n",
    "books2 = books.find_elements_by_id('topBooksUl_001>li')\n",
    "print(books)"
   ]
  },
  {
   "cell_type": "code",
   "execution_count": 84,
   "metadata": {},
   "outputs": [],
   "source": [
    "books = driver.find_element_by_css_selector('div.newGoodsListArea')\n",
    "books = books.find_element_by_id('topBooksUl_001')\n",
    "books = books.find_elements_by_tag_name('li')"
   ]
  },
  {
   "cell_type": "code",
   "execution_count": 85,
   "metadata": {},
   "outputs": [
    {
     "data": {
      "text/plain": [
       "[<selenium.webdriver.remote.webelement.WebElement (session=\"968861b53767e3a2e14a10f669923c23\", element=\"3b5dc163-3176-48d3-8085-a6a3d6fadefb\")>,\n",
       " <selenium.webdriver.remote.webelement.WebElement (session=\"968861b53767e3a2e14a10f669923c23\", element=\"ce2ea860-cf48-48b1-ad94-9586b9eb91a8\")>,\n",
       " <selenium.webdriver.remote.webelement.WebElement (session=\"968861b53767e3a2e14a10f669923c23\", element=\"073bda0c-d59a-4e8b-9734-7909834a5562\")>,\n",
       " <selenium.webdriver.remote.webelement.WebElement (session=\"968861b53767e3a2e14a10f669923c23\", element=\"f759682c-092a-402a-8266-72ee27ca80bd\")>,\n",
       " <selenium.webdriver.remote.webelement.WebElement (session=\"968861b53767e3a2e14a10f669923c23\", element=\"eaf928f5-1e9d-4585-a6d2-232c50033389\")>,\n",
       " <selenium.webdriver.remote.webelement.WebElement (session=\"968861b53767e3a2e14a10f669923c23\", element=\"35875279-7a22-4a76-81d6-48ecad1e9967\")>,\n",
       " <selenium.webdriver.remote.webelement.WebElement (session=\"968861b53767e3a2e14a10f669923c23\", element=\"b288f3a7-7124-4335-9801-28d5e54f4e84\")>,\n",
       " <selenium.webdriver.remote.webelement.WebElement (session=\"968861b53767e3a2e14a10f669923c23\", element=\"f06d50b3-899a-4d47-8902-3ff2f863f25e\")>,\n",
       " <selenium.webdriver.remote.webelement.WebElement (session=\"968861b53767e3a2e14a10f669923c23\", element=\"c436aa32-e93a-41ad-b28d-722d2da13320\")>,\n",
       " <selenium.webdriver.remote.webelement.WebElement (session=\"968861b53767e3a2e14a10f669923c23\", element=\"7759d2c4-7210-416c-bcb4-48c8994d6453\")>,\n",
       " <selenium.webdriver.remote.webelement.WebElement (session=\"968861b53767e3a2e14a10f669923c23\", element=\"df0d21af-07fe-4706-bcc1-bdb43011a076\")>,\n",
       " <selenium.webdriver.remote.webelement.WebElement (session=\"968861b53767e3a2e14a10f669923c23\", element=\"04a47270-da75-4805-a7c5-37f561fac025\")>,\n",
       " <selenium.webdriver.remote.webelement.WebElement (session=\"968861b53767e3a2e14a10f669923c23\", element=\"5ae4205e-afc2-49c9-bd62-5f698214f076\")>,\n",
       " <selenium.webdriver.remote.webelement.WebElement (session=\"968861b53767e3a2e14a10f669923c23\", element=\"257700e5-71bc-4126-bdc2-c210ad08b320\")>,\n",
       " <selenium.webdriver.remote.webelement.WebElement (session=\"968861b53767e3a2e14a10f669923c23\", element=\"fff8fca3-014e-41b9-a893-479b929f4553\")>,\n",
       " <selenium.webdriver.remote.webelement.WebElement (session=\"968861b53767e3a2e14a10f669923c23\", element=\"37d9ee20-09b2-4aab-a339-e5cae36d7e15\")>,\n",
       " <selenium.webdriver.remote.webelement.WebElement (session=\"968861b53767e3a2e14a10f669923c23\", element=\"6f479015-5ddb-4111-8aee-88a72fb380d2\")>,\n",
       " <selenium.webdriver.remote.webelement.WebElement (session=\"968861b53767e3a2e14a10f669923c23\", element=\"2bffebf7-4b50-49b3-a47c-dbba946ebea5\")>,\n",
       " <selenium.webdriver.remote.webelement.WebElement (session=\"968861b53767e3a2e14a10f669923c23\", element=\"ed6e979b-c4f9-4f93-935e-54ca6f5ee244\")>,\n",
       " <selenium.webdriver.remote.webelement.WebElement (session=\"968861b53767e3a2e14a10f669923c23\", element=\"a2f26d97-03ae-43f2-b628-20578d75fcd7\")>]"
      ]
     },
     "execution_count": 85,
     "metadata": {},
     "output_type": "execute_result"
    }
   ],
   "source": [
    "books"
   ]
  }
 ],
 "metadata": {
  "kernelspec": {
   "display_name": "Python 3",
   "language": "python",
   "name": "python3"
  },
  "language_info": {
   "codemirror_mode": {
    "name": "ipython",
    "version": 3
   },
   "file_extension": ".py",
   "mimetype": "text/x-python",
   "name": "python",
   "nbconvert_exporter": "python",
   "pygments_lexer": "ipython3",
   "version": "3.6.5"
  }
 },
 "nbformat": 4,
 "nbformat_minor": 2
}
