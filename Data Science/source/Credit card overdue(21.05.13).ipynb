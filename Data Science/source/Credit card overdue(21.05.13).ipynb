{
  "nbformat": 4,
  "nbformat_minor": 0,
  "metadata": {
    "colab": {
      "name": "Credit card overdue2.ipynb",
      "private_outputs": true,
      "provenance": [],
      "collapsed_sections": []
    },
    "kernelspec": {
      "name": "python3",
      "display_name": "Python 3"
    },
    "language_info": {
      "name": "python"
    }
  },
  "cells": [
    {
      "cell_type": "code",
      "metadata": {
        "id": "sUKGg1p3v6of"
      },
      "source": [
        "import warnings\n",
        "warnings.filterwarnings('ignore')\n",
        "import glob\n",
        "import pandas as pd\n",
        "import numpy as np\n",
        "from lightgbm import LGBMClassifier\n",
        "from sklearn.model_selection import StratifiedKFold\n",
        "from sklearn.preprocessing import OneHotEncoder\n",
        "import random"
      ],
      "execution_count": null,
      "outputs": []
    },
    {
      "cell_type": "code",
      "metadata": {
        "id": "vPVBb9GOv-0V"
      },
      "source": [
        "import os\n",
        "os.chdir('/content/drive/MyDrive/data/dacon/신용카드 사용자 연체 예측 AI')\n",
        "train=pd.read_csv('train.csv')\n",
        "test=pd.read_csv('test.csv')\n",
        "submit=pd.read_csv('sample_submission.csv')\n",
        "\n",
        "train = train.drop(['index'], axis=1)\n",
        "train.fillna('NAN', inplace=True) \n",
        "\n",
        "\n",
        "test = test.drop(['index'], axis=1)\n",
        "test.fillna('NAN', inplace=True)"
      ],
      "execution_count": null,
      "outputs": []
    },
    {
      "cell_type": "code",
      "metadata": {
        "id": "X-u5SoYgwOVk"
      },
      "source": [
        "object_col = []\n",
        "for col in train.columns:\n",
        "    if train[col].dtype == 'object':\n",
        "        object_col.append(col)"
      ],
      "execution_count": null,
      "outputs": []
    },
    {
      "cell_type": "code",
      "metadata": {
        "id": "_TeRAVCywQpW"
      },
      "source": [
        "object_col"
      ],
      "execution_count": null,
      "outputs": []
    },
    {
      "cell_type": "code",
      "metadata": {
        "id": "soRs64S5wpkI"
      },
      "source": [
        "train.loc[:,object_col]"
      ],
      "execution_count": null,
      "outputs": []
    },
    {
      "cell_type": "code",
      "metadata": {
        "id": "anZsQ7wXwUgw"
      },
      "source": [
        "# OnehotEncoder 부분\n",
        "enc = OneHotEncoder()\n",
        "enc.fit(train.loc[:,object_col])\n",
        "\n",
        "\n",
        "train_onehot_df = pd.DataFrame(enc.transform(train.loc[:,object_col]).toarray(), \n",
        "             columns=enc.get_feature_names(object_col))\n",
        "train.drop(object_col, axis=1, inplace=True)\n",
        "train = pd.concat([train, train_onehot_df], axis=1)\n",
        "\n",
        "test_onehot_df = pd.DataFrame(enc.transform(test.loc[:,object_col]).toarray(), \n",
        "             columns=enc.get_feature_names(object_col))\n",
        "test.drop(object_col, axis=1, inplace=True)\n",
        "test = pd.concat([test, test_onehot_df], axis=1)"
      ],
      "execution_count": null,
      "outputs": []
    },
    {
      "cell_type": "code",
      "metadata": {
        "id": "Lzb8MhIawUj5"
      },
      "source": [
        "skf = StratifiedKFold(n_splits=5, shuffle=True, random_state=42)\n",
        "folds=[]\n",
        "for train_idx, valid_idx in skf.split(train, train['credit']):\n",
        "    folds.append((train_idx, valid_idx))"
      ],
      "execution_count": null,
      "outputs": []
    },
    {
      "cell_type": "code",
      "metadata": {
        "id": "KWp57_qHwUmf"
      },
      "source": [
        "# 데이터 분리는 StratifiedKFold 를 사용하여 y값 분포를 비슷하게 분리시킴. -> 5-fold\n",
        "# lightgbm의 default parameter로 훈련.\n",
        "# 30번 이상 개선 없을 경우 중단.\n",
        "# 각 5개의 fold를 훈련하여 저장\n",
        "\n",
        "random.seed(42)\n",
        "lgb_models={}\n",
        "for fold in range(5):\n",
        "    print(f'===================================={fold+1}============================================')\n",
        "    train_idx, valid_idx = folds[fold]\n",
        "    X_train, X_valid, y_train, y_valid = train.drop(['credit'],axis=1).iloc[train_idx].values, train.drop(['credit'],axis=1).iloc[valid_idx].values,\\\n",
        "                                         train['credit'][train_idx].values, train['credit'][valid_idx].values \n",
        "    lgb = LGBMClassifier(n_estimators=1000)\n",
        "    lgb.fit(X_train, y_train, \n",
        "            eval_set=[(X_train, y_train), (X_valid, y_valid)], \n",
        "            early_stopping_rounds=30,\n",
        "           verbose=100)\n",
        "    lgb_models[fold]=lgb\n",
        "    print(f'================================================================================\\n\\n')\n"
      ],
      "execution_count": null,
      "outputs": []
    },
    {
      "cell_type": "code",
      "metadata": {
        "id": "KAhuPc4f1d-L"
      },
      "source": [
        "    lgb.fit(X_train, y_train, \n",
        "            eval_set=[(X_train, y_train), (X_valid, y_valid)], \n",
        "            early_stopping_rounds=30,\n",
        "           verbose=100)"
      ],
      "execution_count": null,
      "outputs": []
    },
    {
      "cell_type": "code",
      "metadata": {
        "id": "9vBT3_TjwUpc"
      },
      "source": [
        "submit.iloc[:,1:]=0\n",
        "for fold in range(5):\n",
        "    submit.iloc[:,1:] += lgb_models[fold].predict_proba(test)/5"
      ],
      "execution_count": null,
      "outputs": []
    },
    {
      "cell_type": "code",
      "metadata": {
        "id": "flqnqdsZzLSH"
      },
      "source": [
        "submit"
      ],
      "execution_count": null,
      "outputs": []
    },
    {
      "cell_type": "code",
      "metadata": {
        "id": "5YMchWGBwUqb"
      },
      "source": [
        "submit.to_csv('baseline_submission2.csv', index=False) # 0.7272812144\n"
      ],
      "execution_count": null,
      "outputs": []
    }
  ]
}